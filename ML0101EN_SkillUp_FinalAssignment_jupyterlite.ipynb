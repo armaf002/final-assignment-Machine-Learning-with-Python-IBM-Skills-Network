{
  "metadata": {
    "kernelspec": {
      "name": "python",
      "display_name": "Pyolite",
      "language": "python"
    },
    "language_info": {
      "codemirror_mode": {
        "name": "python",
        "version": 3
      },
      "file_extension": ".py",
      "mimetype": "text/x-python",
      "name": "python",
      "nbconvert_exporter": "python",
      "pygments_lexer": "ipython3",
      "version": "3.8"
    },
    "colab": {
      "provenance": []
    }
  },
  "nbformat_minor": 0,
  "nbformat": 4,
  "cells": [
    {
      "cell_type": "markdown",
      "source": [
        "<p style=\"text-align:center\">\n",
        "    <a href=\"https://skills.network/?utm_medium=Exinfluencer&utm_source=Exinfluencer&utm_content=000026UJ&utm_term=10006555&utm_id=NA-SkillsNetwork-Channel-SkillsNetworkCoursesIBMDeveloperSkillsNetworkML0101ENSkillsNetwork20718538-2022-01-01\" target=\"_blank\">\n",
        "    <img src=\"https://cf-courses-data.s3.us.cloud-object-storage.appdomain.cloud/assets/logos/SN_web_lightmode.png\" width=\"200\" alt=\"Skills Network Logo\"  />\n",
        "    </a>\n",
        "</p>\n",
        "\n",
        "<h1 align=\"center\"><font size=\"5\">Final Project: Classification with Python</font></h1>\n"
      ],
      "metadata": {
        "id": "e8oUKyzBI9jz"
      }
    },
    {
      "cell_type": "markdown",
      "source": [
        "<h2>Table of Contents</h2>\n",
        "<div class=\"alert alert-block alert-info\" style=\"margin-top: 20px\">\n",
        "    <ul>\n",
        "    <li><a href=\"https://#Section_1\">Instructions</a></li>\n",
        "    <li><a href=\"https://#Section_2\">About the Data</a></li>\n",
        "    <li><a href=\"https://#Section_3\">Importing Data </a></li>\n",
        "    <li><a href=\"https://#Section_4\">Data Preprocessing</a> </li>\n",
        "    <li><a href=\"https://#Section_5\">One Hot Encoding </a></li>\n",
        "    <li><a href=\"https://#Section_6\">Train and Test Data Split </a></li>\n",
        "    <li><a href=\"https://#Section_7\">Train Logistic Regression, KNN, Decision Tree, SVM, and Linear Regression models and return their appropriate accuracy scores</a></li>\n",
        "</a></li>\n",
        "</div>\n",
        "<p>Estimated Time Needed: <strong>180 min</strong></p>\n",
        "</div>\n",
        "\n",
        "<hr>\n"
      ],
      "metadata": {
        "id": "9SDfFAyXI9j4"
      }
    },
    {
      "cell_type": "markdown",
      "source": [
        "# Instructions\n"
      ],
      "metadata": {
        "id": "KFdGSQBjI9j5"
      }
    },
    {
      "cell_type": "markdown",
      "source": [
        "In this notebook, you will  practice all the classification algorithms that we have learned in this course.\n",
        "\n",
        "Below, is where we are going to use the classification algorithms to create a model based on our training data and evaluate our testing data using evaluation metrics learned in the course.\n",
        "\n",
        "We will use some of the algorithms taught in the course, specifically:\n",
        "\n",
        "1.  Linear Regression\n",
        "2.  KNN\n",
        "3.  Decision Trees\n",
        "4.  Logistic Regression\n",
        "5.  SVM\n",
        "\n",
        "We will evaluate our models using:\n",
        "\n",
        "1.  Accuracy Score\n",
        "2.  Jaccard Index\n",
        "3.  F1-Score\n",
        "4.  LogLoss\n",
        "5.  Mean Absolute Error\n",
        "6.  Mean Squared Error\n",
        "7.  R2-Score\n",
        "\n",
        "Finally, you will use your models to generate the report at the end.\n"
      ],
      "metadata": {
        "id": "QofqUXknI9j6"
      }
    },
    {
      "cell_type": "markdown",
      "source": [
        "# About The Dataset\n"
      ],
      "metadata": {
        "id": "caqmi0-tI9j7"
      }
    },
    {
      "cell_type": "markdown",
      "source": [
        "The original source of the data is Australian Government's Bureau of Meteorology and the latest data can be gathered from [http://www.bom.gov.au/climate/dwo/](http://www.bom.gov.au/climate/dwo/?utm_medium=Exinfluencer&utm_source=Exinfluencer&utm_content=000026UJ&utm_term=10006555&utm_id=NA-SkillsNetwork-Channel-SkillsNetworkCoursesIBMDeveloperSkillsNetworkML0101ENSkillsNetwork20718538-2022-01-01).\n",
        "\n",
        "The dataset to be used has extra columns like 'RainToday' and our target is 'RainTomorrow', which was gathered from the Rattle at [https://bitbucket.org/kayontoga/rattle/src/master/data/weatherAUS.RData](https://bitbucket.org/kayontoga/rattle/src/master/data/weatherAUS.RData?utm_medium=Exinfluencer&utm_source=Exinfluencer&utm_content=000026UJ&utm_term=10006555&utm_id=NA-SkillsNetwork-Channel-SkillsNetworkCoursesIBMDeveloperSkillsNetworkML0101ENSkillsNetwork20718538-2022-01-01)\n"
      ],
      "metadata": {
        "id": "d1Ab2ANnI9j8"
      }
    },
    {
      "cell_type": "markdown",
      "source": [
        "This dataset contains observations of weather metrics for each day from 2008 to 2017. The **weatherAUS.csv** dataset includes the following fields:\n",
        "\n",
        "| Field         | Description                                           | Unit            | Type   |\n",
        "| ------------- | ----------------------------------------------------- | --------------- | ------ |\n",
        "| Date          | Date of the Observation in YYYY-MM-DD                 | Date            | object |\n",
        "| Location      | Location of the Observation                           | Location        | object |\n",
        "| MinTemp       | Minimum temperature                                   | Celsius         | float  |\n",
        "| MaxTemp       | Maximum temperature                                   | Celsius         | float  |\n",
        "| Rainfall      | Amount of rainfall                                    | Millimeters     | float  |\n",
        "| Evaporation   | Amount of evaporation                                 | Millimeters     | float  |\n",
        "| Sunshine      | Amount of bright sunshine                             | hours           | float  |\n",
        "| WindGustDir   | Direction of the strongest gust                       | Compass Points  | object |\n",
        "| WindGustSpeed | Speed of the strongest gust                           | Kilometers/Hour | object |\n",
        "| WindDir9am    | Wind direction averaged of 10 minutes prior to 9am    | Compass Points  | object |\n",
        "| WindDir3pm    | Wind direction averaged of 10 minutes prior to 3pm    | Compass Points  | object |\n",
        "| WindSpeed9am  | Wind speed averaged of 10 minutes prior to 9am        | Kilometers/Hour | float  |\n",
        "| WindSpeed3pm  | Wind speed averaged of 10 minutes prior to 3pm        | Kilometers/Hour | float  |\n",
        "| Humidity9am   | Humidity at 9am                                       | Percent         | float  |\n",
        "| Humidity3pm   | Humidity at 3pm                                       | Percent         | float  |\n",
        "| Pressure9am   | Atmospheric pressure reduced to mean sea level at 9am | Hectopascal     | float  |\n",
        "| Pressure3pm   | Atmospheric pressure reduced to mean sea level at 3pm | Hectopascal     | float  |\n",
        "| Cloud9am      | Fraction of the sky obscured by cloud at 9am          | Eights          | float  |\n",
        "| Cloud3pm      | Fraction of the sky obscured by cloud at 3pm          | Eights          | float  |\n",
        "| Temp9am       | Temperature at 9am                                    | Celsius         | float  |\n",
        "| Temp3pm       | Temperature at 3pm                                    | Celsius         | float  |\n",
        "| RainToday     | If there was rain today                               | Yes/No          | object |\n",
        "| RISK_MM       | Amount of rain tomorrow                               | Millimeters     | float  |\n",
        "| RainTomorrow  | If there is rain tomorrow                             | Yes/No          | float  |\n",
        "\n",
        "Column definitions were gathered from [http://www.bom.gov.au/climate/dwo/IDCJDW0000.shtml](http://www.bom.gov.au/climate/dwo/IDCJDW0000.shtml?utm_medium=Exinfluencer&utm_source=Exinfluencer&utm_content=000026UJ&utm_term=10006555&utm_id=NA-SkillsNetwork-Channel-SkillsNetworkCoursesIBMDeveloperSkillsNetworkML0101ENSkillsNetwork20718538-2022-01-01)\n"
      ],
      "metadata": {
        "id": "1i7gD75uI9j9"
      }
    },
    {
      "cell_type": "markdown",
      "source": [
        "## **Import the required libraries**\n"
      ],
      "metadata": {
        "id": "D8OkBrg_I9j_"
      }
    },
    {
      "cell_type": "code",
      "source": [
        "# All Libraries required for this lab are listed below. The libraries pre-installed on Skills Network Labs are commented.\n",
        "# !mamba install -qy pandas==1.3.4 numpy==1.21.4 seaborn==0.9.0 matplotlib==3.5.0 scikit-learn==0.20.1\n",
        "# Note: If your environment doesn't support \"!mamba install\", use \"!pip install\""
      ],
      "metadata": {
        "id": "6wpGZag7I9kA"
      },
      "execution_count": 1,
      "outputs": []
    },
    {
      "cell_type": "code",
      "source": [
        "# Surpress warnings:\n",
        "def warn(*args, **kwargs):\n",
        "    pass\n",
        "import warnings\n",
        "warnings.warn = warn"
      ],
      "metadata": {
        "trusted": true,
        "id": "zRiqyq7QI9kC"
      },
      "execution_count": 2,
      "outputs": []
    },
    {
      "cell_type": "code",
      "source": [
        "import pandas as pd\n",
        "from sklearn.linear_model import LogisticRegression\n",
        "from sklearn.linear_model import LinearRegression\n",
        "from sklearn import preprocessing\n",
        "import numpy as np\n",
        "from sklearn.neighbors import KNeighborsClassifier\n",
        "from sklearn.model_selection import train_test_split\n",
        "from sklearn.neighbors import KNeighborsClassifier\n",
        "from sklearn.tree import DecisionTreeClassifier\n",
        "from sklearn import svm\n",
        "from sklearn.metrics import jaccard_score\n",
        "from sklearn.metrics import f1_score\n",
        "from sklearn.metrics import log_loss\n",
        "from sklearn.metrics import confusion_matrix, accuracy_score\n",
        "import sklearn.metrics as metrics"
      ],
      "metadata": {
        "trusted": true,
        "id": "hz9TY2z_I9kD"
      },
      "execution_count": 5,
      "outputs": []
    },
    {
      "cell_type": "markdown",
      "source": [
        "### Importing the Dataset\n"
      ],
      "metadata": {
        "id": "rQVjDkGOI9kE"
      }
    },
    {
      "cell_type": "code",
      "source": [
        "path='https://cf-courses-data.s3.us.cloud-object-storage.appdomain.cloud/IBMDeveloperSkillsNetwork-ML0101EN-SkillUp/labs/ML-FinalAssignment/Weather_Data.csv'"
      ],
      "metadata": {
        "trusted": true,
        "id": "8QWapM1GI9kF"
      },
      "execution_count": 7,
      "outputs": []
    },
    {
      "cell_type": "code",
      "source": [
        "df = pd.read_csv(path)\n",
        "df.head()"
      ],
      "metadata": {
        "trusted": true,
        "colab": {
          "base_uri": "https://localhost:8080/",
          "height": 300
        },
        "id": "b6C0i0KgI9kF",
        "outputId": "1284de09-48d2-4ac9-bb99-cf1ff5b91b70"
      },
      "execution_count": 9,
      "outputs": [
        {
          "output_type": "execute_result",
          "data": {
            "text/plain": [
              "       Date  MinTemp  MaxTemp  Rainfall  Evaporation  Sunshine WindGustDir  \\\n",
              "0  2/1/2008     19.5     22.4      15.6          6.2       0.0           W   \n",
              "1  2/2/2008     19.5     25.6       6.0          3.4       2.7           W   \n",
              "2  2/3/2008     21.6     24.5       6.6          2.4       0.1           W   \n",
              "3  2/4/2008     20.2     22.8      18.8          2.2       0.0           W   \n",
              "4  2/5/2008     19.7     25.7      77.4          4.8       0.0           W   \n",
              "\n",
              "   WindGustSpeed WindDir9am WindDir3pm  ...  Humidity9am  Humidity3pm  \\\n",
              "0             41          S        SSW  ...           92           84   \n",
              "1             41          W          E  ...           83           73   \n",
              "2             41        ESE        ESE  ...           88           86   \n",
              "3             41        NNE          E  ...           83           90   \n",
              "4             41        NNE          W  ...           88           74   \n",
              "\n",
              "   Pressure9am  Pressure3pm  Cloud9am  Cloud3pm  Temp9am  Temp3pm  RainToday  \\\n",
              "0       1017.6       1017.4         8         8     20.7     20.9        Yes   \n",
              "1       1017.9       1016.4         7         7     22.4     24.8        Yes   \n",
              "2       1016.7       1015.6         7         8     23.5     23.0        Yes   \n",
              "3       1014.2       1011.8         8         8     21.4     20.9        Yes   \n",
              "4       1008.3       1004.8         8         8     22.5     25.5        Yes   \n",
              "\n",
              "   RainTomorrow  \n",
              "0           Yes  \n",
              "1           Yes  \n",
              "2           Yes  \n",
              "3           Yes  \n",
              "4           Yes  \n",
              "\n",
              "[5 rows x 22 columns]"
            ],
            "text/html": [
              "\n",
              "  <div id=\"df-07f24b8d-b223-42a7-9425-e2c3b36bf5d1\">\n",
              "    <div class=\"colab-df-container\">\n",
              "      <div>\n",
              "<style scoped>\n",
              "    .dataframe tbody tr th:only-of-type {\n",
              "        vertical-align: middle;\n",
              "    }\n",
              "\n",
              "    .dataframe tbody tr th {\n",
              "        vertical-align: top;\n",
              "    }\n",
              "\n",
              "    .dataframe thead th {\n",
              "        text-align: right;\n",
              "    }\n",
              "</style>\n",
              "<table border=\"1\" class=\"dataframe\">\n",
              "  <thead>\n",
              "    <tr style=\"text-align: right;\">\n",
              "      <th></th>\n",
              "      <th>Date</th>\n",
              "      <th>MinTemp</th>\n",
              "      <th>MaxTemp</th>\n",
              "      <th>Rainfall</th>\n",
              "      <th>Evaporation</th>\n",
              "      <th>Sunshine</th>\n",
              "      <th>WindGustDir</th>\n",
              "      <th>WindGustSpeed</th>\n",
              "      <th>WindDir9am</th>\n",
              "      <th>WindDir3pm</th>\n",
              "      <th>...</th>\n",
              "      <th>Humidity9am</th>\n",
              "      <th>Humidity3pm</th>\n",
              "      <th>Pressure9am</th>\n",
              "      <th>Pressure3pm</th>\n",
              "      <th>Cloud9am</th>\n",
              "      <th>Cloud3pm</th>\n",
              "      <th>Temp9am</th>\n",
              "      <th>Temp3pm</th>\n",
              "      <th>RainToday</th>\n",
              "      <th>RainTomorrow</th>\n",
              "    </tr>\n",
              "  </thead>\n",
              "  <tbody>\n",
              "    <tr>\n",
              "      <th>0</th>\n",
              "      <td>2/1/2008</td>\n",
              "      <td>19.5</td>\n",
              "      <td>22.4</td>\n",
              "      <td>15.6</td>\n",
              "      <td>6.2</td>\n",
              "      <td>0.0</td>\n",
              "      <td>W</td>\n",
              "      <td>41</td>\n",
              "      <td>S</td>\n",
              "      <td>SSW</td>\n",
              "      <td>...</td>\n",
              "      <td>92</td>\n",
              "      <td>84</td>\n",
              "      <td>1017.6</td>\n",
              "      <td>1017.4</td>\n",
              "      <td>8</td>\n",
              "      <td>8</td>\n",
              "      <td>20.7</td>\n",
              "      <td>20.9</td>\n",
              "      <td>Yes</td>\n",
              "      <td>Yes</td>\n",
              "    </tr>\n",
              "    <tr>\n",
              "      <th>1</th>\n",
              "      <td>2/2/2008</td>\n",
              "      <td>19.5</td>\n",
              "      <td>25.6</td>\n",
              "      <td>6.0</td>\n",
              "      <td>3.4</td>\n",
              "      <td>2.7</td>\n",
              "      <td>W</td>\n",
              "      <td>41</td>\n",
              "      <td>W</td>\n",
              "      <td>E</td>\n",
              "      <td>...</td>\n",
              "      <td>83</td>\n",
              "      <td>73</td>\n",
              "      <td>1017.9</td>\n",
              "      <td>1016.4</td>\n",
              "      <td>7</td>\n",
              "      <td>7</td>\n",
              "      <td>22.4</td>\n",
              "      <td>24.8</td>\n",
              "      <td>Yes</td>\n",
              "      <td>Yes</td>\n",
              "    </tr>\n",
              "    <tr>\n",
              "      <th>2</th>\n",
              "      <td>2/3/2008</td>\n",
              "      <td>21.6</td>\n",
              "      <td>24.5</td>\n",
              "      <td>6.6</td>\n",
              "      <td>2.4</td>\n",
              "      <td>0.1</td>\n",
              "      <td>W</td>\n",
              "      <td>41</td>\n",
              "      <td>ESE</td>\n",
              "      <td>ESE</td>\n",
              "      <td>...</td>\n",
              "      <td>88</td>\n",
              "      <td>86</td>\n",
              "      <td>1016.7</td>\n",
              "      <td>1015.6</td>\n",
              "      <td>7</td>\n",
              "      <td>8</td>\n",
              "      <td>23.5</td>\n",
              "      <td>23.0</td>\n",
              "      <td>Yes</td>\n",
              "      <td>Yes</td>\n",
              "    </tr>\n",
              "    <tr>\n",
              "      <th>3</th>\n",
              "      <td>2/4/2008</td>\n",
              "      <td>20.2</td>\n",
              "      <td>22.8</td>\n",
              "      <td>18.8</td>\n",
              "      <td>2.2</td>\n",
              "      <td>0.0</td>\n",
              "      <td>W</td>\n",
              "      <td>41</td>\n",
              "      <td>NNE</td>\n",
              "      <td>E</td>\n",
              "      <td>...</td>\n",
              "      <td>83</td>\n",
              "      <td>90</td>\n",
              "      <td>1014.2</td>\n",
              "      <td>1011.8</td>\n",
              "      <td>8</td>\n",
              "      <td>8</td>\n",
              "      <td>21.4</td>\n",
              "      <td>20.9</td>\n",
              "      <td>Yes</td>\n",
              "      <td>Yes</td>\n",
              "    </tr>\n",
              "    <tr>\n",
              "      <th>4</th>\n",
              "      <td>2/5/2008</td>\n",
              "      <td>19.7</td>\n",
              "      <td>25.7</td>\n",
              "      <td>77.4</td>\n",
              "      <td>4.8</td>\n",
              "      <td>0.0</td>\n",
              "      <td>W</td>\n",
              "      <td>41</td>\n",
              "      <td>NNE</td>\n",
              "      <td>W</td>\n",
              "      <td>...</td>\n",
              "      <td>88</td>\n",
              "      <td>74</td>\n",
              "      <td>1008.3</td>\n",
              "      <td>1004.8</td>\n",
              "      <td>8</td>\n",
              "      <td>8</td>\n",
              "      <td>22.5</td>\n",
              "      <td>25.5</td>\n",
              "      <td>Yes</td>\n",
              "      <td>Yes</td>\n",
              "    </tr>\n",
              "  </tbody>\n",
              "</table>\n",
              "<p>5 rows × 22 columns</p>\n",
              "</div>\n",
              "      <button class=\"colab-df-convert\" onclick=\"convertToInteractive('df-07f24b8d-b223-42a7-9425-e2c3b36bf5d1')\"\n",
              "              title=\"Convert this dataframe to an interactive table.\"\n",
              "              style=\"display:none;\">\n",
              "        \n",
              "  <svg xmlns=\"http://www.w3.org/2000/svg\" height=\"24px\"viewBox=\"0 0 24 24\"\n",
              "       width=\"24px\">\n",
              "    <path d=\"M0 0h24v24H0V0z\" fill=\"none\"/>\n",
              "    <path d=\"M18.56 5.44l.94 2.06.94-2.06 2.06-.94-2.06-.94-.94-2.06-.94 2.06-2.06.94zm-11 1L8.5 8.5l.94-2.06 2.06-.94-2.06-.94L8.5 2.5l-.94 2.06-2.06.94zm10 10l.94 2.06.94-2.06 2.06-.94-2.06-.94-.94-2.06-.94 2.06-2.06.94z\"/><path d=\"M17.41 7.96l-1.37-1.37c-.4-.4-.92-.59-1.43-.59-.52 0-1.04.2-1.43.59L10.3 9.45l-7.72 7.72c-.78.78-.78 2.05 0 2.83L4 21.41c.39.39.9.59 1.41.59.51 0 1.02-.2 1.41-.59l7.78-7.78 2.81-2.81c.8-.78.8-2.07 0-2.86zM5.41 20L4 18.59l7.72-7.72 1.47 1.35L5.41 20z\"/>\n",
              "  </svg>\n",
              "      </button>\n",
              "      \n",
              "  <style>\n",
              "    .colab-df-container {\n",
              "      display:flex;\n",
              "      flex-wrap:wrap;\n",
              "      gap: 12px;\n",
              "    }\n",
              "\n",
              "    .colab-df-convert {\n",
              "      background-color: #E8F0FE;\n",
              "      border: none;\n",
              "      border-radius: 50%;\n",
              "      cursor: pointer;\n",
              "      display: none;\n",
              "      fill: #1967D2;\n",
              "      height: 32px;\n",
              "      padding: 0 0 0 0;\n",
              "      width: 32px;\n",
              "    }\n",
              "\n",
              "    .colab-df-convert:hover {\n",
              "      background-color: #E2EBFA;\n",
              "      box-shadow: 0px 1px 2px rgba(60, 64, 67, 0.3), 0px 1px 3px 1px rgba(60, 64, 67, 0.15);\n",
              "      fill: #174EA6;\n",
              "    }\n",
              "\n",
              "    [theme=dark] .colab-df-convert {\n",
              "      background-color: #3B4455;\n",
              "      fill: #D2E3FC;\n",
              "    }\n",
              "\n",
              "    [theme=dark] .colab-df-convert:hover {\n",
              "      background-color: #434B5C;\n",
              "      box-shadow: 0px 1px 3px 1px rgba(0, 0, 0, 0.15);\n",
              "      filter: drop-shadow(0px 1px 2px rgba(0, 0, 0, 0.3));\n",
              "      fill: #FFFFFF;\n",
              "    }\n",
              "  </style>\n",
              "\n",
              "      <script>\n",
              "        const buttonEl =\n",
              "          document.querySelector('#df-07f24b8d-b223-42a7-9425-e2c3b36bf5d1 button.colab-df-convert');\n",
              "        buttonEl.style.display =\n",
              "          google.colab.kernel.accessAllowed ? 'block' : 'none';\n",
              "\n",
              "        async function convertToInteractive(key) {\n",
              "          const element = document.querySelector('#df-07f24b8d-b223-42a7-9425-e2c3b36bf5d1');\n",
              "          const dataTable =\n",
              "            await google.colab.kernel.invokeFunction('convertToInteractive',\n",
              "                                                     [key], {});\n",
              "          if (!dataTable) return;\n",
              "\n",
              "          const docLinkHtml = 'Like what you see? Visit the ' +\n",
              "            '<a target=\"_blank\" href=https://colab.research.google.com/notebooks/data_table.ipynb>data table notebook</a>'\n",
              "            + ' to learn more about interactive tables.';\n",
              "          element.innerHTML = '';\n",
              "          dataTable['output_type'] = 'display_data';\n",
              "          await google.colab.output.renderOutput(dataTable, element);\n",
              "          const docLink = document.createElement('div');\n",
              "          docLink.innerHTML = docLinkHtml;\n",
              "          element.appendChild(docLink);\n",
              "        }\n",
              "      </script>\n",
              "    </div>\n",
              "  </div>\n",
              "  "
            ]
          },
          "metadata": {},
          "execution_count": 9
        }
      ]
    },
    {
      "cell_type": "markdown",
      "source": [
        "### Data Preprocessing\n"
      ],
      "metadata": {
        "id": "iFOLQVQTI9kH"
      }
    },
    {
      "cell_type": "markdown",
      "source": [
        "#### One Hot Encoding\n"
      ],
      "metadata": {
        "id": "yql4CGy_I9kI"
      }
    },
    {
      "cell_type": "markdown",
      "source": [
        "First, we need to perform one hot encoding to convert categorical variables to binary variables.\n"
      ],
      "metadata": {
        "id": "ybkwqSRqI9kI"
      }
    },
    {
      "cell_type": "code",
      "source": [
        "df_sydney_processed = pd.get_dummies(data=df, columns=['RainToday', 'WindGustDir', 'WindDir9am', 'WindDir3pm'])"
      ],
      "metadata": {
        "trusted": true,
        "id": "A-KzmVQ6I9kJ"
      },
      "execution_count": 13,
      "outputs": []
    },
    {
      "cell_type": "markdown",
      "source": [
        "Next, we replace the values of the 'RainTomorrow' column changing them from a categorical column to a binary column. We do not use the `get_dummies` method because we would end up with two columns for 'RainTomorrow' and we do not want, since 'RainTomorrow' is our target.\n"
      ],
      "metadata": {
        "id": "mPnsg-f3I9kJ"
      }
    },
    {
      "cell_type": "code",
      "source": [
        "df_sydney_processed.replace(['No', 'Yes'], [0,1], inplace=True)"
      ],
      "metadata": {
        "trusted": true,
        "id": "O-XGNorXI9kJ"
      },
      "execution_count": 14,
      "outputs": []
    },
    {
      "cell_type": "markdown",
      "source": [
        "### Training Data and Test Data\n"
      ],
      "metadata": {
        "id": "KVFkekw8I9kK"
      }
    },
    {
      "cell_type": "markdown",
      "source": [
        "Now, we set our 'features' or x values and our Y or target variable.\n"
      ],
      "metadata": {
        "id": "ON1a6UljI9kK"
      }
    },
    {
      "cell_type": "code",
      "source": [
        "df_sydney_processed.drop('Date',axis=1,inplace=True)"
      ],
      "metadata": {
        "trusted": true,
        "id": "H8q1vPf1I9kK"
      },
      "execution_count": 15,
      "outputs": []
    },
    {
      "cell_type": "code",
      "source": [
        "df_sydney_processed = df_sydney_processed.astype(float)"
      ],
      "metadata": {
        "trusted": true,
        "id": "guyoO-G9I9kL"
      },
      "execution_count": 16,
      "outputs": []
    },
    {
      "cell_type": "code",
      "source": [
        "features = df_sydney_processed.drop(columns='RainTomorrow', axis=1)\n",
        "Y = df_sydney_processed['RainTomorrow']"
      ],
      "metadata": {
        "trusted": true,
        "id": "BKmBchShI9kL"
      },
      "execution_count": 17,
      "outputs": []
    },
    {
      "cell_type": "markdown",
      "source": [
        "### Linear Regression\n"
      ],
      "metadata": {
        "id": "876Ko3WEI9kL"
      }
    },
    {
      "cell_type": "markdown",
      "source": [
        "#### Q1) Use the `train_test_split` function to split the `features` and `Y` dataframes with a `test_size` of `0.2` and the `random_state` set to `10`.\n"
      ],
      "metadata": {
        "id": "frK_D2SSI9kM"
      }
    },
    {
      "cell_type": "code",
      "source": [
        "#Enter Your Code, Execute and take the Screenshot\n",
        "x_train, x_test, y_train, y_test = train_test_split(features, Y, test_size=0.2, random_state=10)\n"
      ],
      "metadata": {
        "trusted": true,
        "id": "G5K9qPJ6I9kM"
      },
      "execution_count": 18,
      "outputs": []
    },
    {
      "cell_type": "code",
      "source": [
        "x_train, x_test, y_train, y_test "
      ],
      "metadata": {
        "trusted": true,
        "colab": {
          "base_uri": "https://localhost:8080/"
        },
        "id": "mPutkJCtI9kM",
        "outputId": "f2737e12-c36d-4e9d-c947-07761cd87755"
      },
      "execution_count": 19,
      "outputs": [
        {
          "output_type": "execute_result",
          "data": {
            "text/plain": [
              "(      MinTemp  MaxTemp  Rainfall  Evaporation  Sunshine  WindGustSpeed  \\\n",
              " 3188     14.8     22.0      33.8          4.2       1.5           50.0   \n",
              " 2582      8.1     18.4       0.0          4.8       8.5           41.0   \n",
              " 815      15.4     21.1       0.0          3.8       5.9           41.0   \n",
              " 1024     20.0     26.5       0.0          8.6      13.1           30.0   \n",
              " 1320     14.8     18.3      38.8          7.4       0.1           48.0   \n",
              " ...       ...      ...       ...          ...       ...            ...   \n",
              " 3195     11.7     17.9       8.8          7.8       6.1           54.0   \n",
              " 1344     17.0     21.7       0.0          5.4      10.7           26.0   \n",
              " 527       6.7     17.3       0.0          2.6       6.9           41.0   \n",
              " 3197     15.0     22.7       9.4          4.2       2.8           43.0   \n",
              " 1289     15.9     30.1       0.2          7.6      12.2           33.0   \n",
              " \n",
              "       WindSpeed9am  WindSpeed3pm  Humidity9am  Humidity3pm  ...  \\\n",
              " 3188          19.0          24.0         90.0         49.0  ...   \n",
              " 2582          20.0          11.0         70.0         50.0  ...   \n",
              " 815            7.0          28.0         59.0         41.0  ...   \n",
              " 1024           7.0          20.0         64.0         63.0  ...   \n",
              " 1320          19.0          24.0         93.0         86.0  ...   \n",
              " ...            ...           ...          ...          ...  ...   \n",
              " 3195          26.0          26.0         51.0         56.0  ...   \n",
              " 1344          15.0          20.0         50.0         47.0  ...   \n",
              " 527           17.0           7.0         79.0         42.0  ...   \n",
              " 3197          19.0          17.0         71.0         75.0  ...   \n",
              " 1289          11.0           9.0         59.0         39.0  ...   \n",
              " \n",
              "       WindDir3pm_NNW  WindDir3pm_NW  WindDir3pm_S  WindDir3pm_SE  \\\n",
              " 3188             0.0            0.0           0.0            0.0   \n",
              " 2582             0.0            0.0           0.0            0.0   \n",
              " 815              0.0            0.0           0.0            0.0   \n",
              " 1024             0.0            0.0           0.0            0.0   \n",
              " 1320             0.0            0.0           0.0            0.0   \n",
              " ...              ...            ...           ...            ...   \n",
              " 3195             0.0            0.0           0.0            0.0   \n",
              " 1344             0.0            0.0           0.0            0.0   \n",
              " 527              0.0            1.0           0.0            0.0   \n",
              " 3197             0.0            0.0           0.0            0.0   \n",
              " 1289             0.0            0.0           0.0            0.0   \n",
              " \n",
              "       WindDir3pm_SSE  WindDir3pm_SSW  WindDir3pm_SW  WindDir3pm_W  \\\n",
              " 3188             0.0             0.0            0.0           0.0   \n",
              " 2582             0.0             0.0            0.0           0.0   \n",
              " 815              0.0             0.0            0.0           1.0   \n",
              " 1024             0.0             0.0            0.0           0.0   \n",
              " 1320             1.0             0.0            0.0           0.0   \n",
              " ...              ...             ...            ...           ...   \n",
              " 3195             0.0             0.0            0.0           1.0   \n",
              " 1344             0.0             0.0            0.0           0.0   \n",
              " 527              0.0             0.0            0.0           0.0   \n",
              " 3197             0.0             1.0            0.0           0.0   \n",
              " 1289             0.0             0.0            0.0           0.0   \n",
              " \n",
              "       WindDir3pm_WNW  WindDir3pm_WSW  \n",
              " 3188             0.0             0.0  \n",
              " 2582             0.0             0.0  \n",
              " 815              0.0             0.0  \n",
              " 1024             0.0             0.0  \n",
              " 1320             0.0             0.0  \n",
              " ...              ...             ...  \n",
              " 3195             0.0             0.0  \n",
              " 1344             0.0             0.0  \n",
              " 527              0.0             0.0  \n",
              " 3197             0.0             0.0  \n",
              " 1289             0.0             0.0  \n",
              " \n",
              " [2616 rows x 66 columns],\n",
              "       MinTemp  MaxTemp  Rainfall  Evaporation  Sunshine  WindGustSpeed  \\\n",
              " 3066     18.7     35.7       0.2          6.0       9.8           57.0   \n",
              " 2456     15.0     24.8      22.4          3.4       9.7           37.0   \n",
              " 1629      8.5     16.0       3.4          2.0       4.3           74.0   \n",
              " 838      11.7     19.9       1.6          1.4       4.6           41.0   \n",
              " 2506      7.9     19.3       2.2          4.0      10.1           46.0   \n",
              " ...       ...      ...       ...          ...       ...            ...   \n",
              " 2632     12.2     19.9       0.0          4.2       8.2           43.0   \n",
              " 1725     20.1     28.7       0.2          4.2      10.7           31.0   \n",
              " 1158     11.6     15.7      18.2          4.8       0.3           57.0   \n",
              " 1661     16.9     23.9       0.0          9.8       9.9           57.0   \n",
              " 68       15.6     22.2      22.8          5.4       5.8           41.0   \n",
              " \n",
              "       WindSpeed9am  WindSpeed3pm  Humidity9am  Humidity3pm  ...  \\\n",
              " 3066          13.0          17.0         44.0         24.0  ...   \n",
              " 2456          19.0          20.0         72.0         53.0  ...   \n",
              " 1629          35.0          22.0         84.0         87.0  ...   \n",
              " 838           15.0           7.0         92.0         53.0  ...   \n",
              " 2506          28.0          20.0         49.0         34.0  ...   \n",
              " ...            ...           ...          ...          ...  ...   \n",
              " 2632           9.0          28.0         53.0         57.0  ...   \n",
              " 1725          11.0          20.0         70.0         65.0  ...   \n",
              " 1158          28.0          35.0         89.0         67.0  ...   \n",
              " 1661          19.0          28.0         60.0         51.0  ...   \n",
              " 68            13.0          20.0         96.0         62.0  ...   \n",
              " \n",
              "       WindDir3pm_NNW  WindDir3pm_NW  WindDir3pm_S  WindDir3pm_SE  \\\n",
              " 3066             0.0            0.0           0.0            0.0   \n",
              " 2456             0.0            0.0           0.0            0.0   \n",
              " 1629             0.0            0.0           0.0            0.0   \n",
              " 838              0.0            0.0           0.0            0.0   \n",
              " 2506             0.0            0.0           0.0            0.0   \n",
              " ...              ...            ...           ...            ...   \n",
              " 2632             0.0            0.0           0.0            1.0   \n",
              " 1725             0.0            0.0           0.0            0.0   \n",
              " 1158             0.0            0.0           0.0            0.0   \n",
              " 1661             0.0            0.0           0.0            0.0   \n",
              " 68               0.0            0.0           0.0            0.0   \n",
              " \n",
              "       WindDir3pm_SSE  WindDir3pm_SSW  WindDir3pm_SW  WindDir3pm_W  \\\n",
              " 3066             0.0             0.0            0.0           0.0   \n",
              " 2456             1.0             0.0            0.0           0.0   \n",
              " 1629             0.0             1.0            0.0           0.0   \n",
              " 838              0.0             0.0            0.0           0.0   \n",
              " 2506             0.0             0.0            0.0           1.0   \n",
              " ...              ...             ...            ...           ...   \n",
              " 2632             0.0             0.0            0.0           0.0   \n",
              " 1725             0.0             0.0            0.0           0.0   \n",
              " 1158             1.0             0.0            0.0           0.0   \n",
              " 1661             1.0             0.0            0.0           0.0   \n",
              " 68               0.0             0.0            0.0           0.0   \n",
              " \n",
              "       WindDir3pm_WNW  WindDir3pm_WSW  \n",
              " 3066             0.0             0.0  \n",
              " 2456             0.0             0.0  \n",
              " 1629             0.0             0.0  \n",
              " 838              0.0             0.0  \n",
              " 2506             0.0             0.0  \n",
              " ...              ...             ...  \n",
              " 2632             0.0             0.0  \n",
              " 1725             0.0             0.0  \n",
              " 1158             0.0             0.0  \n",
              " 1661             0.0             0.0  \n",
              " 68               0.0             0.0  \n",
              " \n",
              " [655 rows x 66 columns],\n",
              " 3188    1.0\n",
              " 2582    0.0\n",
              " 815     1.0\n",
              " 1024    0.0\n",
              " 1320    1.0\n",
              "        ... \n",
              " 3195    0.0\n",
              " 1344    0.0\n",
              " 527     0.0\n",
              " 3197    1.0\n",
              " 1289    0.0\n",
              " Name: RainTomorrow, Length: 2616, dtype: float64,\n",
              " 3066    0.0\n",
              " 2456    0.0\n",
              " 1629    1.0\n",
              " 838     1.0\n",
              " 2506    0.0\n",
              "        ... \n",
              " 2632    1.0\n",
              " 1725    0.0\n",
              " 1158    1.0\n",
              " 1661    0.0\n",
              " 68      1.0\n",
              " Name: RainTomorrow, Length: 655, dtype: float64)"
            ]
          },
          "metadata": {},
          "execution_count": 19
        }
      ]
    },
    {
      "cell_type": "markdown",
      "source": [
        "#### Q2) Create and train a Linear Regression model called LinearReg using the training data (`x_train`, `y_train`).\n"
      ],
      "metadata": {
        "id": "OPYOu3gHI9kN"
      }
    },
    {
      "cell_type": "code",
      "source": [
        "#Enter Your Code, Execute and take the Screenshot"
      ],
      "metadata": {
        "id": "jEAf1mUFI9kN"
      },
      "execution_count": 20,
      "outputs": []
    },
    {
      "cell_type": "code",
      "source": [
        "# Create the LinearRegression model object\n",
        "LinearReg = LinearRegression()\n",
        "\n",
        "# Train the model using the training data\n",
        "LinearReg.fit(x_train, y_train)"
      ],
      "metadata": {
        "trusted": true,
        "colab": {
          "base_uri": "https://localhost:8080/"
        },
        "id": "Oz5sz_DrI9kN",
        "outputId": "83a1d48b-a0d9-4273-b392-5a5620999323"
      },
      "execution_count": 21,
      "outputs": [
        {
          "output_type": "execute_result",
          "data": {
            "text/plain": [
              "LinearRegression()"
            ]
          },
          "metadata": {},
          "execution_count": 21
        }
      ]
    },
    {
      "cell_type": "markdown",
      "source": [
        "#### Q3) Now use the `predict` method on the testing data (`x_test`) and save it to the array `predictions`.\n"
      ],
      "metadata": {
        "id": "Jhir9ZEuI9kO"
      }
    },
    {
      "cell_type": "code",
      "source": [
        "#Enter Your Code, Execute and take the Screenshot"
      ],
      "metadata": {
        "id": "YHVUcXu9I9kO"
      },
      "execution_count": 22,
      "outputs": []
    },
    {
      "cell_type": "code",
      "source": [
        "# Use the predict method on the x_test data\n",
        "predictions = LinearReg.predict(x_test)\n",
        "predictions"
      ],
      "metadata": {
        "trusted": true,
        "colab": {
          "base_uri": "https://localhost:8080/"
        },
        "id": "sEoMJx69I9kP",
        "outputId": "a6c002da-5644-4d56-d9b6-3b8c23132e35"
      },
      "execution_count": 23,
      "outputs": [
        {
          "output_type": "execute_result",
          "data": {
            "text/plain": [
              "array([ 1.31866455e-01,  2.76214600e-01,  9.78126526e-01,  2.87445068e-01,\n",
              "        1.32423401e-01,  4.60426331e-01,  3.56819153e-01,  8.56346130e-01,\n",
              "        6.75010681e-01,  3.82537842e-02,  4.74548340e-03,  2.81227112e-01,\n",
              "        3.39065552e-01,  7.80563354e-02,  6.26144409e-02,  5.64407349e-01,\n",
              "       -6.15692139e-02,  5.24185181e-01,  1.53617859e-01,  3.59710693e-01,\n",
              "        6.05850220e-02,  9.03526306e-01,  4.67277527e-01,  2.03353882e-01,\n",
              "       -7.09381104e-02,  3.83857727e-01,  5.36079407e-01, -2.29339600e-02,\n",
              "        6.40129089e-01, -9.56497192e-02,  3.78036499e-01,  1.20292664e-01,\n",
              "       -1.81503296e-02,  5.54122925e-02,  5.63491821e-01,  1.06288147e+00,\n",
              "       -6.72912598e-03,  5.14358521e-01, -8.84017944e-02,  6.92214966e-02,\n",
              "        2.44445801e-02,  8.71688843e-01,  2.44697571e-01,  3.94714355e-01,\n",
              "        2.67585754e-01,  4.46800232e-01, -4.75692749e-02,  1.89422607e-01,\n",
              "        7.76580811e-01,  1.57783508e-01,  4.05120850e-03, -5.19638062e-02,\n",
              "        2.07328796e-01, -2.07901001e-01, -7.61260986e-02,  2.49671936e-01,\n",
              "        2.79312134e-01,  6.02767944e-01,  6.29577637e-01,  4.90592957e-01,\n",
              "        5.64880371e-02,  1.05468750e-01,  6.70021057e-01,  7.64831543e-01,\n",
              "        9.84039307e-02, -6.32400513e-02,  4.13841248e-01,  7.25479126e-02,\n",
              "        2.49877930e-01,  2.56462097e-01,  3.77273560e-02, -6.88476562e-02,\n",
              "        3.48220825e-01,  1.73057556e-01,  4.15473938e-01, -7.24868774e-02,\n",
              "        3.41117859e-01,  1.87004089e-01, -1.54823303e-01,  7.99751282e-01,\n",
              "        2.32414246e-01,  2.37403870e-01,  2.56134033e-01,  1.03454590e-01,\n",
              "        6.20758057e-01,  1.29730225e-01,  3.71414185e-01,  4.82963562e-01,\n",
              "        3.08250427e-01,  1.19422913e-01,  5.48553467e-02,  1.12854004e-01,\n",
              "       -1.62498474e-01, -1.58042908e-01,  7.29293823e-02,  7.76428223e-01,\n",
              "        8.43658447e-02,  6.43058777e-01,  1.21772766e-01,  1.78047180e-01,\n",
              "        3.04931641e-01,  1.85470581e-01,  1.13135529e+00,  3.44474792e-01,\n",
              "        8.26812744e-01,  5.38909912e-01,  2.74291992e-01,  6.29425049e-01,\n",
              "       -6.72302246e-02,  9.63462830e-01,  5.61843872e-01,  2.34603882e-02,\n",
              "        1.05644226e-01,  9.38796997e-02,  8.15048218e-02,  2.92167664e-01,\n",
              "        5.55076599e-01,  6.69403076e-02,  4.25415039e-02,  9.53674316e-04,\n",
              "        1.37687683e-01, -2.17941284e-01,  7.01065063e-02,  1.19880676e-01,\n",
              "        1.92710876e-01, -3.82919312e-02,  1.55982971e-01,  7.12570190e-01,\n",
              "        2.62367249e-01,  5.34805298e-01,  3.97781372e-01, -4.64477539e-02,\n",
              "        2.44071960e-01,  2.06336975e-01,  2.80395508e-01, -1.28288269e-01,\n",
              "        1.19476318e-01,  3.83346558e-01,  1.84349060e-01,  7.28561401e-01,\n",
              "        3.31832886e-01, -1.03286743e-01,  2.39471436e-01,  3.06015015e-01,\n",
              "        6.63108826e-01,  2.20947266e-02,  1.60041809e-01,  5.21606445e-01,\n",
              "       -4.34265137e-02,  7.98416138e-01,  2.21817017e-01,  3.89900208e-01,\n",
              "       -5.63430786e-02,  4.02374268e-01,  2.34207153e-01,  1.20346069e-01,\n",
              "        3.05519104e-01,  7.86163330e-01,  3.32336426e-02,  1.22531891e+00,\n",
              "        8.94546509e-01,  8.18481445e-02, -1.52206421e-02,  1.70997620e-01,\n",
              "       -6.86111450e-02, -1.07818604e-01, -5.02471924e-02,  2.98690796e-01,\n",
              "        3.57070923e-01,  9.58633423e-02,  8.85261536e-01, -3.33404541e-02,\n",
              "        5.99220276e-01,  8.95843506e-02,  9.84191895e-02,  3.54103088e-01,\n",
              "        2.36000061e-01, -6.72225952e-02,  1.44271851e-01,  4.17945862e-01,\n",
              "        5.87409973e-01,  2.16766357e-01, -3.32794189e-02,  1.00625610e+00,\n",
              "        4.26559448e-02, -1.73339844e-02,  2.48344421e-01, -5.93490601e-02,\n",
              "        2.22190857e-01, -7.19146729e-02,  8.46786499e-02,  7.15408325e-02,\n",
              "        3.49349976e-02,  4.43458557e-01,  1.86767578e-01,  1.83151245e-01,\n",
              "        7.56301880e-02,  1.36566162e-02,  1.84654236e-01,  2.32353210e-01,\n",
              "        5.30624390e-01,  1.60301208e-01,  3.95301819e-01, -4.49295044e-02,\n",
              "        8.39241028e-01,  1.65634155e-02, -1.69906616e-02, -2.13851929e-02,\n",
              "        1.46461487e-01,  1.38069153e-01, -3.34320068e-02,  4.14871216e-01,\n",
              "        6.57211304e-01, -4.98199463e-03,  2.86483765e-02,  4.61120605e-02,\n",
              "       -7.21817017e-02,  2.73757935e-01,  5.28587341e-01, -5.90591431e-02,\n",
              "        8.43063354e-01,  3.25859070e-01,  3.18817139e-01,  3.64303589e-02,\n",
              "       -8.52050781e-02,  2.83340454e-01,  3.01376343e-01,  1.37809753e-01,\n",
              "        3.35815430e-01,  4.12467957e-01,  3.75244141e-01,  1.24031067e-01,\n",
              "        2.87864685e-01,  9.06181335e-01,  4.45510864e-01,  2.74742126e-01,\n",
              "       -6.57653809e-03,  6.91757202e-01,  6.71867371e-01,  1.15447998e-01,\n",
              "        7.74536133e-01,  9.94346619e-01,  5.87615967e-01,  3.14231873e-01,\n",
              "        2.26364136e-01, -4.47387695e-02,  2.26013184e-01,  2.30575562e-01,\n",
              "        3.54934692e-01, -1.26548767e-01,  3.52783203e-02,  1.82258606e-01,\n",
              "        2.15324402e-01,  1.76200867e-01, -2.96096802e-02,  1.00045776e+00,\n",
              "        1.88186646e-01,  7.52113342e-01,  6.19773865e-01,  7.17803955e-01,\n",
              "        3.15643311e-01,  2.23693848e-02,  3.26393127e-01, -6.90460205e-03,\n",
              "        2.81562805e-01, -2.27737427e-02,  7.98950195e-02, -2.31933594e-03,\n",
              "        3.57078552e-01,  1.36489868e-01,  2.65800476e-01,  1.40228271e-02,\n",
              "        2.21023560e-01,  7.07344055e-01,  1.59538269e-01,  2.04536438e-01,\n",
              "        5.38230896e-01, -1.52565002e-01,  2.54890442e-01,  2.76428223e-01,\n",
              "        2.64022827e-01,  6.69403076e-02,  9.74250793e-01,  2.00012207e-01,\n",
              "        7.55706787e-01, -3.49655151e-02,  4.87716675e-01,  5.89752197e-03,\n",
              "       -7.24487305e-02,  3.05618286e-01, -2.05093384e-01,  1.90994263e-01,\n",
              "       -2.46200562e-02, -7.71102905e-02,  2.78984070e-01,  7.84378052e-02,\n",
              "        2.33917236e-01,  4.44786072e-01,  6.62536621e-02, -3.31039429e-02,\n",
              "        5.83175659e-01,  5.77545166e-02,  3.20480347e-01,  7.24189758e-01,\n",
              "        1.35414124e-01, -2.21252441e-02,  7.33001709e-01, -3.08296204e-01,\n",
              "        1.09119415e+00,  2.85919189e-01,  8.84956360e-01,  6.96540833e-01,\n",
              "        5.85250854e-01, -2.22473145e-02,  9.52026367e-01,  7.14935303e-01,\n",
              "        4.48471069e-01,  5.80406189e-01,  1.87088013e-01,  2.29629517e-01,\n",
              "       -5.77926636e-02,  3.15277100e-01,  8.74618530e-01, -1.67770386e-02,\n",
              "        2.52456665e-01, -3.35006714e-02, -4.39605713e-02,  4.13360596e-02,\n",
              "        2.35939026e-01,  2.03018188e-01,  8.81942749e-01,  5.87196350e-01,\n",
              "        1.20033264e-01, -2.02407837e-02, -1.92718506e-02,  1.03538513e-01,\n",
              "        8.32366943e-03,  2.29125977e-01, -1.69448853e-02,  7.15026855e-02,\n",
              "        1.62658691e-01,  1.70143127e-01,  2.46627808e-01,  1.47705078e-01,\n",
              "        3.91738892e-01, -6.65664673e-02,  1.15707397e-01,  1.84425354e-01,\n",
              "        9.06829834e-02, -1.78985596e-02,  2.09289551e-01, -1.30310059e-02,\n",
              "        5.46447754e-01,  4.15893555e-01,  1.78138733e-01,  1.72195435e-02,\n",
              "        4.93835449e-01,  1.47171021e-01,  5.24734497e-01,  5.98045349e-01,\n",
              "        3.08219910e-01,  3.09280396e-01,  4.46449280e-01,  1.68174744e-01,\n",
              "        2.60757446e-01,  7.56149292e-01,  4.06143188e-01,  4.90638733e-01,\n",
              "        5.14282227e-01, -1.30233765e-01,  7.91244507e-02,  3.50540161e-01,\n",
              "        1.00461578e+00,  2.73353577e-01,  6.35322571e-01,  5.78582764e-01,\n",
              "        4.68170166e-01,  3.75366211e-03,  3.59016418e-01,  6.74667358e-02,\n",
              "       -4.23431396e-02,  7.03277588e-01,  1.27174377e-01,  8.00048828e-01,\n",
              "        4.70794678e-01, -1.74102783e-02,  2.93426514e-02,  5.55168152e-01,\n",
              "        5.01098633e-02,  1.15257263e-01, -9.69696045e-03,  1.47499084e-01,\n",
              "        4.71191406e-01, -9.26437378e-02,  8.08486938e-02,  3.09677124e-02,\n",
              "        3.94775391e-01,  2.23800659e-01,  1.00320435e+00,  7.08038330e-01,\n",
              "        3.55964661e-01,  2.62939453e-01, -2.83584595e-02, -9.65118408e-03,\n",
              "        3.08685303e-02,  1.41754150e-01,  7.82699585e-02,  5.12619019e-01,\n",
              "        2.04811096e-01,  3.11698914e-01,  5.28434753e-01,  4.61875916e-01,\n",
              "        5.36041260e-02,  8.17207336e-01,  5.33905029e-01, -1.38191223e-01,\n",
              "        5.09437561e-01,  1.94030762e-01,  4.56108093e-01,  1.85211182e-01,\n",
              "        2.21992493e-01,  1.15638733e-01,  6.32476807e-02,  7.36923218e-02,\n",
              "        1.02386475e-01,  5.51383972e-01,  7.02964783e-01,  5.22125244e-01,\n",
              "        5.35034180e-01,  3.19900513e-02,  1.11053467e-01, -1.18576050e-01,\n",
              "        5.31860352e-01, -1.74446106e-01,  4.54452515e-01,  9.74281311e-01,\n",
              "        4.18220520e-01, -1.16020203e-01,  8.70651245e-01,  1.62162781e-01,\n",
              "        6.13067627e-01,  3.17199707e-01, -7.86590576e-02,  4.93919373e-01,\n",
              "        7.44804382e-01,  6.05163574e-02,  6.03790283e-02,  2.36824036e-01,\n",
              "        5.79154968e-01,  1.10733032e-01,  3.81820679e-01,  6.02233887e-01,\n",
              "        5.84487915e-02,  2.21794128e-01,  3.89076233e-01,  6.63757324e-01,\n",
              "        1.56135559e-01,  3.97300720e-01,  5.80131531e-01,  5.03738403e-01,\n",
              "        1.06445312e-01,  1.49856567e-01,  2.33283997e-01, -3.34930420e-03,\n",
              "       -2.86254883e-02,  2.65884399e-01,  2.60520935e-01, -6.16378784e-02,\n",
              "        1.46301270e-01,  8.24737549e-01,  5.68489075e-01, -9.56115723e-02,\n",
              "       -1.02447510e-01,  8.49380493e-02,  1.61651611e-01, -7.92312622e-02,\n",
              "        9.43824768e-01,  7.93991089e-02,  3.38409424e-01,  1.58012390e-01,\n",
              "       -6.94351196e-02,  2.15141296e-01,  4.78828430e-01,  2.15988159e-02,\n",
              "        5.34431458e-01,  1.42524719e-01, -1.58386230e-01,  9.97161865e-03,\n",
              "        2.26745605e-01,  3.34831238e-01,  6.04476929e-02, -2.09197998e-02,\n",
              "       -1.07872009e-01,  3.34327698e-01,  5.10139465e-01,  3.46000671e-01,\n",
              "       -8.66470337e-02, -4.99420166e-02,  5.05287170e-01,  8.22219849e-02,\n",
              "        6.74667358e-02,  3.23112488e-01,  3.38142395e-01,  5.37315369e-01,\n",
              "        2.91801453e-01,  3.30589294e-01, -4.11071777e-02,  8.27384949e-01,\n",
              "        6.03408813e-01,  2.36656189e-01,  7.02331543e-01,  4.44679260e-01,\n",
              "        5.81161499e-01,  1.90017700e-01,  5.44738770e-02,  9.38262939e-02,\n",
              "       -6.77413940e-02,  1.05987549e-01, -2.49176025e-02, -2.94723511e-02,\n",
              "        6.56127930e-02,  9.60769653e-02,  1.03286743e-01,  1.77726746e-01,\n",
              "        1.02096558e-01,  6.64146423e-01,  1.97692871e-01,  1.04721069e-01,\n",
              "        1.13403320e-01, -3.24630737e-02,  1.46553040e-01,  4.64904785e-01,\n",
              "        7.55538940e-01,  2.03987122e-01,  4.90180969e-01, -1.01303101e-01,\n",
              "        6.61674500e-01,  7.53456116e-01,  9.01031494e-01,  7.72926331e-01,\n",
              "        2.73536682e-01,  2.98057556e-01,  1.87149048e-01,  7.19825745e-01,\n",
              "        2.29820251e-01,  3.34609985e-01,  8.51455688e-01,  3.06472778e-02,\n",
              "       -3.65447998e-03, -7.81402588e-02,  7.49816895e-01,  2.04666138e-01,\n",
              "        4.06089783e-01,  3.32260132e-01,  1.82014465e-01,  8.23310852e-01,\n",
              "        5.03181458e-01,  6.33987427e-01, -5.08193970e-02,  4.26254272e-02,\n",
              "        1.11160278e-01,  1.89201355e-01,  6.00997925e-01,  4.09049988e-01,\n",
              "        6.87675476e-01,  2.89939880e-01, -9.20181274e-02,  4.47006226e-02,\n",
              "        1.98944092e-01,  6.18827820e-01,  1.41845703e-01,  6.98875427e-01,\n",
              "        3.11805725e-01,  1.26792908e-01,  8.11462402e-01,  6.24771118e-02,\n",
              "       -1.04431152e-01,  6.59713745e-02,  1.23611450e-01,  5.18707275e-01,\n",
              "       -5.96237183e-02,  6.39717102e-01, -1.30004883e-02,  3.84750366e-02,\n",
              "       -1.04881287e-01,  1.96495056e-01,  3.36174011e-01,  4.87976074e-01,\n",
              "        1.93832397e-01,  7.93251038e-01,  1.69418335e-01,  8.56018066e-02,\n",
              "        1.68617249e-01,  1.73217773e-01,  3.24020386e-02,  4.69238281e-01,\n",
              "        2.03079224e-01,  8.46641541e-01,  4.20852661e-01,  2.17918396e-01,\n",
              "        1.81114197e-01,  1.54769897e-01,  7.26287842e-01,  4.45236206e-01,\n",
              "        4.87487793e-01,  1.01631165e-01,  4.13101196e-01, -1.13159180e-01,\n",
              "        1.79374695e-01, -9.75799561e-03,  1.39060974e-01,  1.12014771e-01,\n",
              "        6.09542847e-01,  2.16369629e-02,  1.88339233e-01, -1.35368347e-01,\n",
              "        7.06382751e-01,  4.33074951e-01, -5.83038330e-02,  9.28581238e-01,\n",
              "        5.40611267e-01, -1.62506104e-03,  9.18930054e-01, -2.19039917e-02,\n",
              "        1.65443420e-01,  1.77803040e-01,  4.72892761e-01, -2.79235840e-03,\n",
              "        4.00367737e-01,  1.41983032e-02,  1.95312500e-01, -6.80007935e-02,\n",
              "        5.87219238e-01,  1.92451477e-01,  2.33383179e-01,  2.73658752e-01,\n",
              "        9.40628052e-01,  7.10083008e-01,  1.33407593e-01,  7.38067627e-02,\n",
              "        5.58547974e-02, -2.26387024e-01,  4.11758423e-02,  5.16967773e-02,\n",
              "        3.10592651e-02,  2.93640137e-01,  9.69337463e-01,  7.98629761e-01,\n",
              "       -2.30102539e-02,  5.26962280e-02,  2.64823914e-01,  1.75163269e-01,\n",
              "        7.06214905e-01,  1.73820496e-01,  3.44291687e-01])"
            ]
          },
          "metadata": {},
          "execution_count": 23
        }
      ]
    },
    {
      "cell_type": "markdown",
      "source": [
        "#### Q4) Using the `predictions` and the `y_test` dataframe calculate the value for each metric using the appropriate function.\n"
      ],
      "metadata": {
        "id": "eaWV8SwNI9kP"
      }
    },
    {
      "cell_type": "code",
      "source": [
        "#Enter Your Code, Execute and take the Screenshot"
      ],
      "metadata": {
        "id": "dMF8hU-GI9kQ"
      },
      "execution_count": 24,
      "outputs": []
    },
    {
      "cell_type": "code",
      "source": [
        "from sklearn.metrics import mean_absolute_error, mean_squared_error, r2_score\n",
        "\n",
        "# Calculate the MAE\n",
        "LinearRegression_MAE = mean_absolute_error(y_test, predictions)\n",
        "\n",
        "# Calculate the MSE\n",
        "LinearRegression_MSE = mean_squared_error(y_test, predictions)\n",
        "\n",
        "# Calculate the R2\n",
        "LinearRegression_R2 = r2_score(y_test, predictions)\n",
        "\n",
        "# Print the metrics\n",
        "print(\"Linear Regression Metrics:\")\n",
        "print(\"-------------------------\")\n",
        "print(\"Mean Absolute Error (MAE): {:.4f}\".format(LinearRegression_MAE))\n",
        "print(\"Mean Squared Error (MSE): {:.4f}\".format(LinearRegression_MSE))\n",
        "print(\"R-squared (R2): {:.4f}\".format(LinearRegression_R2))"
      ],
      "metadata": {
        "trusted": true,
        "colab": {
          "base_uri": "https://localhost:8080/"
        },
        "id": "Rxvg_vEyI9kQ",
        "outputId": "6c31b21e-f973-45e1-b602-d5ad29061f8c"
      },
      "execution_count": 25,
      "outputs": [
        {
          "output_type": "stream",
          "name": "stdout",
          "text": [
            "Linear Regression Metrics:\n",
            "-------------------------\n",
            "Mean Absolute Error (MAE): 0.2563\n",
            "Mean Squared Error (MSE): 0.1157\n",
            "R-squared (R2): 0.4271\n"
          ]
        }
      ]
    },
    {
      "cell_type": "markdown",
      "source": [
        "#### Q5) Show the MAE, MSE, and R2 in a tabular format using data frame for the linear model.\n"
      ],
      "metadata": {
        "id": "padY8rGaI9kQ"
      }
    },
    {
      "cell_type": "code",
      "source": [
        "#Enter Your Code, Execute and take the Screenshot"
      ],
      "metadata": {
        "id": "dSoXD7qfI9kR"
      },
      "execution_count": 26,
      "outputs": []
    },
    {
      "cell_type": "code",
      "source": [
        "# Create a dictionary of the metrics\n",
        "metrics = {\"Metric\": [\"MAE\", \"MSE\", \"R2\"],\n",
        "           \"Value\": [LinearRegression_MAE, LinearRegression_MSE, LinearRegression_R2]}\n",
        "\n",
        "# Create a DataFrame from the dictionary\n",
        "Report = pd.DataFrame(metrics)\n",
        "\n",
        "# Print the DataFrame\n",
        "print(Report)\n"
      ],
      "metadata": {
        "trusted": true,
        "colab": {
          "base_uri": "https://localhost:8080/"
        },
        "id": "yBbwB_HVI9kR",
        "outputId": "7715d8cd-ed55-46d6-dc53-958aeafaa9c8"
      },
      "execution_count": 27,
      "outputs": [
        {
          "output_type": "stream",
          "name": "stdout",
          "text": [
            "  Metric     Value\n",
            "0    MAE  0.256319\n",
            "1    MSE  0.115720\n",
            "2     R2  0.427136\n"
          ]
        }
      ]
    },
    {
      "cell_type": "markdown",
      "source": [
        "### KNN\n"
      ],
      "metadata": {
        "id": "PXxz3CtMI9kS"
      }
    },
    {
      "cell_type": "markdown",
      "source": [
        "#### Q6) Create and train a KNN model called KNN using the training data (`x_train`, `y_train`) with the `n_neighbors` parameter set to `4`.\n"
      ],
      "metadata": {
        "id": "FO7WuODWI9kS"
      }
    },
    {
      "cell_type": "code",
      "source": [
        "#Enter Your Code Below, Execute, and Save the Screenshot of the Final Output"
      ],
      "metadata": {
        "trusted": true,
        "id": "AbusRKsVI9kS"
      },
      "execution_count": 28,
      "outputs": []
    },
    {
      "cell_type": "code",
      "source": [
        "from sklearn.neighbors import KNeighborsRegressor\n",
        "\n",
        "# Create the KNN model object with n_neighbors set to 4\n",
        "KNN = KNeighborsRegressor(n_neighbors=4)\n",
        "\n",
        "# Train the model using the training data\n",
        "KNN.fit(x_train, y_train)"
      ],
      "metadata": {
        "trusted": true,
        "id": "pJIWhBsGI9kT",
        "outputId": "7087f43a-e64d-4243-ffc3-cf7861cb99e3",
        "colab": {
          "base_uri": "https://localhost:8080/"
        }
      },
      "execution_count": 29,
      "outputs": [
        {
          "output_type": "execute_result",
          "data": {
            "text/plain": [
              "KNeighborsRegressor(n_neighbors=4)"
            ]
          },
          "metadata": {},
          "execution_count": 29
        }
      ]
    },
    {
      "cell_type": "markdown",
      "source": [
        "#### Q7) Now use the `predict` method on the testing data (`x_test`) and save it to the array `predictions`.\n"
      ],
      "metadata": {
        "tags": [],
        "id": "RgD0BKtAI9kT"
      }
    },
    {
      "cell_type": "code",
      "source": [
        "#Enter Your Code Below, Execute, and Save the Screenshot of the Final Output"
      ],
      "metadata": {
        "trusted": true,
        "id": "UUe1q3nMI9kU"
      },
      "execution_count": 30,
      "outputs": []
    },
    {
      "cell_type": "code",
      "source": [
        "# Use the predict method on the x_test data\n",
        "predictions = KNN.predict(x_test)\n",
        "predictions"
      ],
      "metadata": {
        "trusted": true,
        "id": "9taE1zrOI9kU",
        "outputId": "687e0691-2f24-46c6-a2e7-825e21200657",
        "colab": {
          "base_uri": "https://localhost:8080/"
        }
      },
      "execution_count": 31,
      "outputs": [
        {
          "output_type": "execute_result",
          "data": {
            "text/plain": [
              "array([0.25, 0.  , 1.  , 0.  , 0.  , 0.5 , 0.25, 1.  , 0.75, 0.  , 0.  ,\n",
              "       0.  , 0.5 , 0.25, 0.  , 0.  , 0.  , 0.5 , 0.  , 0.  , 0.  , 1.  ,\n",
              "       0.  , 0.25, 0.  , 0.25, 0.25, 0.  , 0.75, 0.  , 0.25, 0.  , 0.25,\n",
              "       0.25, 0.5 , 1.  , 0.25, 0.25, 0.  , 0.  , 0.  , 1.  , 0.25, 0.  ,\n",
              "       0.  , 0.5 , 0.  , 0.  , 0.75, 0.  , 0.  , 0.  , 0.25, 0.  , 0.  ,\n",
              "       0.  , 0.25, 0.5 , 0.25, 0.25, 0.  , 0.  , 1.  , 0.75, 0.25, 0.25,\n",
              "       0.25, 0.  , 0.  , 0.25, 0.  , 0.  , 0.5 , 0.  , 0.5 , 0.  , 0.  ,\n",
              "       0.  , 0.  , 0.75, 0.5 , 0.25, 0.  , 0.  , 0.25, 0.  , 0.25, 0.25,\n",
              "       0.5 , 0.25, 0.  , 0.  , 0.  , 0.  , 0.  , 1.  , 0.  , 1.  , 0.  ,\n",
              "       0.  , 0.5 , 0.25, 1.  , 0.  , 1.  , 0.75, 0.  , 0.  , 0.25, 1.  ,\n",
              "       0.25, 0.25, 0.  , 0.25, 0.25, 0.  , 0.  , 0.  , 0.25, 0.  , 0.  ,\n",
              "       0.  , 0.  , 0.5 , 0.  , 0.  , 0.25, 0.5 , 0.  , 0.75, 0.5 , 0.  ,\n",
              "       0.5 , 0.  , 0.75, 0.  , 0.25, 0.25, 0.5 , 0.75, 0.  , 0.  , 0.  ,\n",
              "       0.25, 1.  , 0.  , 0.  , 0.25, 0.25, 0.75, 0.  , 0.25, 0.25, 0.5 ,\n",
              "       0.5 , 0.  , 0.25, 1.  , 0.25, 1.  , 0.75, 0.  , 0.  , 0.  , 0.  ,\n",
              "       0.  , 0.  , 0.5 , 1.  , 0.25, 1.  , 0.25, 0.5 , 0.  , 0.  , 0.  ,\n",
              "       0.25, 0.  , 0.  , 0.25, 1.  , 0.  , 0.  , 1.  , 0.25, 0.  , 0.  ,\n",
              "       0.  , 0.  , 0.  , 0.25, 0.  , 0.  , 0.5 , 0.25, 0.  , 0.  , 0.  ,\n",
              "       0.  , 0.  , 0.25, 0.  , 0.25, 0.  , 0.75, 0.  , 0.  , 0.  , 0.25,\n",
              "       0.  , 0.75, 0.75, 0.5 , 0.  , 0.  , 0.  , 0.  , 0.5 , 0.5 , 0.  ,\n",
              "       1.  , 0.  , 0.25, 0.  , 0.  , 0.5 , 0.25, 0.  , 0.25, 0.  , 0.  ,\n",
              "       0.  , 0.25, 0.75, 1.  , 0.  , 0.  , 0.75, 1.  , 0.  , 0.75, 1.  ,\n",
              "       0.  , 0.  , 0.75, 0.  , 0.  , 0.5 , 0.  , 0.  , 0.  , 0.25, 0.25,\n",
              "       0.  , 0.  , 0.75, 0.  , 1.  , 0.75, 0.75, 0.25, 0.  , 0.25, 0.25,\n",
              "       0.  , 0.  , 0.  , 0.  , 0.5 , 0.  , 0.5 , 0.25, 0.25, 1.  , 0.  ,\n",
              "       0.5 , 0.5 , 0.  , 0.25, 0.  , 0.25, 0.  , 1.  , 0.  , 0.5 , 0.  ,\n",
              "       0.25, 0.  , 0.  , 0.25, 0.  , 0.25, 0.  , 0.  , 0.  , 0.  , 0.  ,\n",
              "       0.75, 0.25, 0.  , 0.75, 0.  , 0.  , 0.25, 0.5 , 0.5 , 1.  , 0.  ,\n",
              "       1.  , 0.5 , 1.  , 0.75, 0.5 , 0.  , 1.  , 0.5 , 0.5 , 0.5 , 0.75,\n",
              "       0.  , 0.  , 0.75, 1.  , 0.  , 0.  , 0.  , 0.  , 0.  , 0.25, 0.25,\n",
              "       1.  , 0.5 , 0.  , 0.  , 0.  , 0.  , 0.  , 0.5 , 0.  , 0.  , 0.  ,\n",
              "       0.  , 0.25, 0.  , 0.  , 0.25, 0.  , 0.  , 0.  , 0.25, 0.  , 0.  ,\n",
              "       1.  , 0.25, 0.  , 0.  , 0.25, 0.5 , 0.75, 1.  , 0.75, 0.  , 0.75,\n",
              "       0.  , 0.25, 0.75, 0.5 , 0.25, 0.25, 0.25, 0.25, 0.  , 1.  , 0.5 ,\n",
              "       0.5 , 0.75, 0.25, 0.  , 0.5 , 0.25, 0.  , 0.5 , 0.25, 0.75, 0.5 ,\n",
              "       0.  , 0.  , 0.75, 0.  , 0.25, 0.  , 0.  , 0.75, 0.25, 0.25, 0.25,\n",
              "       0.5 , 0.  , 1.  , 1.  , 0.25, 0.25, 0.  , 0.  , 0.25, 0.  , 0.25,\n",
              "       0.25, 0.  , 0.  , 0.5 , 1.  , 0.  , 0.75, 0.25, 0.  , 0.  , 0.25,\n",
              "       0.25, 0.25, 0.  , 0.  , 0.  , 0.  , 0.  , 1.  , 0.25, 0.5 , 1.  ,\n",
              "       0.  , 0.25, 0.  , 1.  , 0.  , 0.25, 1.  , 0.25, 0.25, 1.  , 0.  ,\n",
              "       0.5 , 0.  , 0.  , 0.25, 0.75, 0.25, 0.  , 0.  , 0.25, 0.5 , 0.5 ,\n",
              "       0.75, 0.  , 0.  , 0.25, 0.25, 0.  , 0.5 , 0.5 , 0.25, 0.  , 0.75,\n",
              "       0.25, 0.  , 0.  , 0.25, 0.  , 0.  , 0.  , 1.  , 0.5 , 0.  , 0.  ,\n",
              "       0.  , 0.25, 0.  , 1.  , 0.  , 0.  , 0.  , 0.  , 0.  , 0.5 , 0.  ,\n",
              "       0.5 , 0.  , 0.  , 0.  , 0.  , 0.  , 0.  , 0.  , 0.25, 0.25, 1.  ,\n",
              "       0.  , 0.  , 0.25, 0.25, 0.25, 0.  , 0.25, 0.  , 0.5 , 0.25, 0.  ,\n",
              "       0.  , 0.75, 0.25, 0.25, 0.5 , 0.25, 0.25, 0.25, 0.25, 0.  , 0.  ,\n",
              "       0.  , 0.  , 0.  , 0.  , 0.  , 0.  , 0.  , 0.  , 0.75, 0.  , 0.  ,\n",
              "       0.  , 0.  , 0.25, 0.25, 1.  , 0.25, 0.25, 0.  , 0.75, 1.  , 1.  ,\n",
              "       1.  , 0.25, 0.  , 0.5 , 1.  , 0.25, 0.25, 0.75, 0.  , 0.  , 0.  ,\n",
              "       0.25, 0.  , 0.25, 0.25, 0.  , 1.  , 0.  , 0.75, 0.  , 0.  , 0.5 ,\n",
              "       0.  , 0.25, 0.25, 1.  , 0.  , 0.  , 0.25, 0.25, 0.75, 0.  , 0.5 ,\n",
              "       0.5 , 0.25, 1.  , 0.  , 0.  , 0.25, 0.25, 0.25, 0.25, 0.5 , 0.  ,\n",
              "       0.  , 0.  , 0.  , 0.25, 0.25, 0.25, 1.  , 0.  , 0.  , 0.  , 0.25,\n",
              "       0.  , 0.  , 0.5 , 1.  , 0.25, 0.  , 0.25, 0.  , 1.  , 0.  , 0.5 ,\n",
              "       0.  , 0.5 , 0.  , 0.25, 0.  , 0.5 , 0.  , 1.  , 0.  , 0.  , 0.  ,\n",
              "       1.  , 0.25, 0.  , 1.  , 0.  , 0.  , 0.75, 0.  , 0.25, 0.  , 0.5 ,\n",
              "       0.  , 0.25, 0.  , 0.25, 0.  , 0.75, 0.  , 0.5 , 0.  , 0.75, 0.75,\n",
              "       0.25, 0.25, 0.25, 0.25, 0.25, 0.  , 0.  , 0.  , 1.  , 0.75, 0.  ,\n",
              "       0.  , 0.  , 0.  , 0.75, 0.  , 0.75])"
            ]
          },
          "metadata": {},
          "execution_count": 31
        }
      ]
    },
    {
      "cell_type": "markdown",
      "source": [
        "#### Q8) Using the `predictions` and the `y_test` dataframe calculate the value for each metric using the appropriate function.\n"
      ],
      "metadata": {
        "id": "nZDzhx92I9kU"
      }
    },
    {
      "cell_type": "code",
      "source": [
        "#Enter Your Code Below, Execute, and Save the Screenshot of the Final Output"
      ],
      "metadata": {
        "trusted": true,
        "id": "ijawbYMuI9kV"
      },
      "execution_count": 32,
      "outputs": []
    },
    {
      "cell_type": "code",
      "source": [
        "from sklearn.metrics import accuracy_score, jaccard_score, f1_score\n",
        "\n",
        "# Convert y_test to int data type\n",
        "y_test = y_test.astype(int)\n",
        "\n",
        "# Convert predictions to int data type\n",
        "predictions = predictions.astype(int)\n",
        "\n",
        "# Calculate accuracy score\n",
        "KNN_Accuracy_Score = accuracy_score(y_test, predictions)\n",
        "\n",
        "# Calculate Jaccard index\n",
        "KNN_JaccardIndex = jaccard_score(y_test, predictions)\n",
        "\n",
        "# Calculate F1 score\n",
        "KNN_F1_Score = f1_score(y_test, predictions)\n",
        "\n",
        "print(\"KNN Accuracy Score: \", KNN_Accuracy_Score)\n",
        "print(\"KNN Jaccard Index: \", KNN_JaccardIndex)\n",
        "print(\"KNN F1 Score: \", KNN_F1_Score)\n"
      ],
      "metadata": {
        "trusted": true,
        "id": "uCU6FOUQI9kV",
        "outputId": "1faf6cbc-3d9e-4636-dce8-14ea44a776f1",
        "colab": {
          "base_uri": "https://localhost:8080/"
        }
      },
      "execution_count": 33,
      "outputs": [
        {
          "output_type": "stream",
          "name": "stdout",
          "text": [
            "KNN Accuracy Score:  0.7893129770992366\n",
            "KNN Jaccard Index:  0.2774869109947644\n",
            "KNN F1 Score:  0.43442622950819665\n"
          ]
        }
      ]
    },
    {
      "cell_type": "markdown",
      "source": [
        "### Decision Tree\n"
      ],
      "metadata": {
        "id": "tjyddblPI9kV"
      }
    },
    {
      "cell_type": "markdown",
      "source": [
        "#### Q9) Create and train a Decision Tree model called Tree using the training data (`x_train`, `y_train`).\n"
      ],
      "metadata": {
        "id": "FhmLP0M0I9kW"
      }
    },
    {
      "cell_type": "code",
      "source": [
        "#Enter Your Code, Execute and take the Screenshot"
      ],
      "metadata": {
        "id": "Y3L_BWHgI9kW"
      },
      "execution_count": 34,
      "outputs": []
    },
    {
      "cell_type": "code",
      "source": [
        "from sklearn.tree import DecisionTreeClassifier\n",
        "\n",
        "# Create Decision Tree model\n",
        "Tree = DecisionTreeClassifier()\n",
        "\n",
        "# Train the model using the training data\n",
        "Tree.fit(x_train, y_train)\n",
        "\n",
        "Tree"
      ],
      "metadata": {
        "trusted": true,
        "id": "5itcFXO_I9kW",
        "outputId": "d7cfb9f7-a65c-4aff-eba8-bf0b785ba643",
        "colab": {
          "base_uri": "https://localhost:8080/"
        }
      },
      "execution_count": 35,
      "outputs": [
        {
          "output_type": "execute_result",
          "data": {
            "text/plain": [
              "DecisionTreeClassifier()"
            ]
          },
          "metadata": {},
          "execution_count": 35
        }
      ]
    },
    {
      "cell_type": "markdown",
      "source": [
        "#### Q10) Now use the `predict` method on the testing data (`x_test`) and save it to the array `predictions`.\n"
      ],
      "metadata": {
        "id": "vBd4axyTI9kX"
      }
    },
    {
      "cell_type": "code",
      "source": [
        "#Enter Your Code, Execute and take the Screenshot"
      ],
      "metadata": {
        "id": "6WXA-CswI9kX"
      },
      "execution_count": 36,
      "outputs": []
    },
    {
      "cell_type": "code",
      "source": [
        "# Use the trained model to make predictions on the test data\n",
        "predictions = Tree.predict(x_test)\n",
        "\n",
        "predictions"
      ],
      "metadata": {
        "tags": [],
        "trusted": true,
        "id": "ZDHevSVyI9kY",
        "outputId": "074e8dcc-5764-4cde-a252-66cf781b353c",
        "colab": {
          "base_uri": "https://localhost:8080/"
        }
      },
      "execution_count": 37,
      "outputs": [
        {
          "output_type": "execute_result",
          "data": {
            "text/plain": [
              "array([0., 0., 1., 0., 0., 1., 0., 1., 1., 1., 0., 0., 0., 0., 0., 0., 0.,\n",
              "       0., 0., 0., 0., 1., 1., 0., 0., 1., 0., 0., 1., 0., 0., 0., 0., 0.,\n",
              "       0., 1., 0., 0., 0., 0., 0., 0., 0., 0., 0., 1., 0., 0., 1., 0., 0.,\n",
              "       0., 0., 0., 0., 0., 0., 0., 1., 0., 0., 0., 1., 1., 0., 0., 1., 0.,\n",
              "       0., 0., 0., 0., 0., 0., 1., 0., 1., 0., 0., 1., 0., 0., 0., 0., 1.,\n",
              "       0., 1., 1., 1., 0., 0., 0., 0., 0., 0., 1., 0., 1., 0., 0., 0., 0.,\n",
              "       1., 0., 1., 1., 0., 1., 0., 1., 1., 0., 0., 0., 0., 1., 0., 1., 0.,\n",
              "       0., 0., 0., 0., 0., 0., 0., 1., 1., 0., 1., 1., 0., 1., 0., 0., 0.,\n",
              "       0., 1., 0., 1., 1., 0., 0., 0., 1., 0., 0., 0., 0., 0., 0., 1., 0.,\n",
              "       0., 0., 0., 0., 1., 0., 1., 1., 0., 0., 0., 0., 0., 0., 1., 0., 0.,\n",
              "       1., 0., 0., 0., 0., 1., 0., 0., 0., 0., 1., 0., 0., 1., 0., 0., 0.,\n",
              "       0., 1., 0., 0., 0., 0., 0., 0., 0., 0., 0., 0., 0., 0., 0., 0., 0.,\n",
              "       1., 0., 0., 0., 1., 1., 0., 0., 1., 0., 0., 0., 0., 0., 1., 0., 1.,\n",
              "       0., 0., 0., 0., 1., 1., 0., 0., 1., 0., 0., 1., 1., 1., 0., 0., 1.,\n",
              "       1., 0., 1., 1., 0., 0., 0., 0., 1., 0., 0., 1., 0., 0., 0., 1., 0.,\n",
              "       1., 1., 0., 1., 1., 1., 0., 0., 0., 0., 0., 0., 0., 1., 0., 0., 0.,\n",
              "       0., 1., 1., 0., 1., 0., 0., 0., 0., 0., 1., 0., 1., 0., 0., 0., 0.,\n",
              "       0., 0., 0., 0., 0., 0., 0., 0., 1., 0., 0., 1., 0., 0., 0., 0., 0.,\n",
              "       1., 0., 1., 0., 1., 1., 0., 0., 1., 0., 1., 0., 0., 0., 0., 0., 1.,\n",
              "       0., 0., 0., 0., 0., 0., 1., 1., 0., 0., 0., 0., 0., 0., 1., 0., 0.,\n",
              "       0., 0., 0., 0., 0., 0., 0., 0., 0., 0., 0., 0., 1., 0., 0., 0., 0.,\n",
              "       1., 1., 0., 0., 0., 0., 1., 1., 1., 1., 1., 1., 1., 0., 0., 1., 1.,\n",
              "       0., 1., 0., 0., 0., 0., 0., 1., 0., 1., 1., 0., 0., 0., 0., 0., 0.,\n",
              "       0., 1., 0., 0., 0., 1., 0., 1., 1., 0., 0., 0., 1., 1., 0., 0., 0.,\n",
              "       0., 0., 1., 0., 0., 1., 0., 0., 0., 0., 1., 0., 0., 0., 0., 0., 0.,\n",
              "       1., 1., 0., 1., 0., 0., 0., 0., 0., 1., 1., 0., 0., 1., 0., 1., 0.,\n",
              "       0., 1., 1., 1., 0., 0., 1., 1., 0., 0., 0., 0., 0., 1., 1., 0., 1.,\n",
              "       0., 0., 0., 0., 0., 0., 0., 0., 0., 0., 1., 0., 0., 0., 1., 0., 0.,\n",
              "       1., 0., 1., 0., 1., 0., 1., 0., 0., 0., 0., 0., 0., 0., 0., 0., 0.,\n",
              "       0., 1., 0., 0., 0., 0., 0., 0., 1., 1., 0., 0., 0., 1., 0., 1., 0.,\n",
              "       0., 1., 0., 1., 1., 0., 0., 0., 0., 0., 0., 0., 0., 0., 0., 1., 0.,\n",
              "       0., 0., 0., 0., 0., 1., 1., 0., 0., 1., 0., 1., 1., 0., 0., 0., 1.,\n",
              "       0., 1., 1., 0., 0., 0., 0., 0., 0., 0., 1., 1., 1., 0., 0., 0., 0.,\n",
              "       1., 1., 1., 1., 0., 0., 0., 0., 1., 0., 0., 0., 0., 1., 0., 0., 0.,\n",
              "       0., 0., 0., 1., 0., 0., 0., 0., 0., 0., 0., 1., 0., 0., 0., 0., 0.,\n",
              "       0., 0., 1., 1., 0., 0., 0., 1., 0., 0., 0., 1., 0., 1., 0., 1., 0.,\n",
              "       1., 0., 1., 0., 1., 0., 0., 1., 1., 0., 1., 0., 0., 0., 1., 0., 0.,\n",
              "       0., 0., 0., 1., 0., 0., 0., 1., 1., 0., 1., 0., 0., 0., 0., 0., 0.,\n",
              "       1., 1., 0., 0., 0., 0., 1., 0., 0.])"
            ]
          },
          "metadata": {},
          "execution_count": 37
        }
      ]
    },
    {
      "cell_type": "markdown",
      "source": [
        "#### Q11) Using the `predictions` and the `y_test` dataframe calculate the value for each metric using the appropriate function.\n"
      ],
      "metadata": {
        "id": "tpogDS1uI9kY"
      }
    },
    {
      "cell_type": "code",
      "source": [
        "#Enter Your Code, Execute and take the Screenshot"
      ],
      "metadata": {
        "id": "cUJGu9GvI9kZ"
      },
      "execution_count": 38,
      "outputs": []
    },
    {
      "cell_type": "code",
      "source": [
        "# Calculate accuracy score\n",
        "Tree_Accuracy_Score = accuracy_score(y_test, predictions)\n",
        "\n",
        "# Calculate Jaccard index\n",
        "Tree_JaccardIndex = jaccard_score(y_test, predictions)\n",
        "\n",
        "# Calculate F1 score\n",
        "Tree_F1_Score = f1_score(y_test, predictions)\n",
        "\n",
        "print(\"Tree Accuracy Score: \", Tree_Accuracy_Score)\n",
        "print(\"Tree Jaccard Index: \", Tree_JaccardIndex)\n",
        "print(\"Tree F1 Score: \", Tree_F1_Score)"
      ],
      "metadata": {
        "trusted": true,
        "id": "WtgdXGIqI9kZ",
        "outputId": "c944bd4f-f69a-4004-9d89-8f57d1cad868",
        "colab": {
          "base_uri": "https://localhost:8080/"
        }
      },
      "execution_count": 39,
      "outputs": [
        {
          "output_type": "stream",
          "name": "stdout",
          "text": [
            "Tree Accuracy Score:  0.7587786259541984\n",
            "Tree Jaccard Index:  0.4037735849056604\n",
            "Tree F1 Score:  0.575268817204301\n"
          ]
        }
      ]
    },
    {
      "cell_type": "markdown",
      "source": [
        "### Logistic Regression\n"
      ],
      "metadata": {
        "id": "a_fCjErpI9ka"
      }
    },
    {
      "cell_type": "markdown",
      "source": [
        "#### Q12) Use the `train_test_split` function to split the `features` and `Y` dataframes with a `test_size` of `0.2` and the `random_state` set to `1`.\n"
      ],
      "metadata": {
        "id": "DMYwVJO3I9ka"
      }
    },
    {
      "cell_type": "code",
      "source": [
        "#Enter Your Code, Execute and take the Screenshot"
      ],
      "metadata": {
        "id": "uJ9CvJutI9ka"
      },
      "execution_count": 40,
      "outputs": []
    },
    {
      "cell_type": "code",
      "source": [
        "from sklearn.model_selection import train_test_split\n",
        "\n",
        "# Split the data into training and testing sets\n",
        "x_train, x_test, y_train, y_test = train_test_split(features, Y, test_size=0.2, random_state=1)\n",
        "\n",
        "x_train, x_test, y_train, y_test\n"
      ],
      "metadata": {
        "trusted": true,
        "id": "9dAYVz0wI9kb",
        "outputId": "44b0702e-1bf3-41a5-9db4-df4ac0803936",
        "colab": {
          "base_uri": "https://localhost:8080/"
        }
      },
      "execution_count": 41,
      "outputs": [
        {
          "output_type": "execute_result",
          "data": {
            "text/plain": [
              "(      MinTemp  MaxTemp  Rainfall  Evaporation  Sunshine  WindGustSpeed  \\\n",
              " 1264     12.3     19.7      30.0          4.0       7.2           44.0   \n",
              " 3113     25.1     38.1       0.0         13.8      11.1           59.0   \n",
              " 1230     12.2     17.5       0.0          2.8       3.0           41.0   \n",
              " 1221     10.3     16.5       1.0          2.2       0.8           24.0   \n",
              " 3070     20.4     23.6       3.2          7.0       0.0           33.0   \n",
              " ...       ...      ...       ...          ...       ...            ...   \n",
              " 2763     19.5     28.7       9.0          3.0       3.0           70.0   \n",
              " 905       6.8     16.1       0.0          4.2      10.2           41.0   \n",
              " 1096     20.6     28.1       1.0          3.2       9.8           41.0   \n",
              " 235      10.3     18.6       0.0          4.0      10.9           41.0   \n",
              " 1061     24.2     41.5       0.0          8.4      12.4           56.0   \n",
              " \n",
              "       WindSpeed9am  WindSpeed3pm  Humidity9am  Humidity3pm  ...  \\\n",
              " 1264          24.0          17.0         52.0         45.0  ...   \n",
              " 3113          20.0          31.0         26.0         52.0  ...   \n",
              " 1230          17.0          11.0         86.0         69.0  ...   \n",
              " 1221           7.0          11.0         89.0         71.0  ...   \n",
              " 3070          15.0           7.0         86.0         83.0  ...   \n",
              " ...            ...           ...          ...          ...  ...   \n",
              " 2763          17.0          17.0         84.0         62.0  ...   \n",
              " 905           26.0          20.0         58.0         50.0  ...   \n",
              " 1096           4.0          20.0         82.0         69.0  ...   \n",
              " 235            6.0          19.0         67.0         54.0  ...   \n",
              " 1061          24.0          33.0         46.0         22.0  ...   \n",
              " \n",
              "       WindDir3pm_NNW  WindDir3pm_NW  WindDir3pm_S  WindDir3pm_SE  \\\n",
              " 1264             0.0            0.0           0.0            0.0   \n",
              " 3113             0.0            0.0           0.0            0.0   \n",
              " 1230             0.0            0.0           0.0            0.0   \n",
              " 1221             0.0            0.0           0.0            0.0   \n",
              " 3070             0.0            0.0           0.0            0.0   \n",
              " ...              ...            ...           ...            ...   \n",
              " 2763             0.0            0.0           0.0            0.0   \n",
              " 905              0.0            0.0           1.0            0.0   \n",
              " 1096             0.0            0.0           0.0            0.0   \n",
              " 235              0.0            0.0           0.0            0.0   \n",
              " 1061             1.0            0.0           0.0            0.0   \n",
              " \n",
              "       WindDir3pm_SSE  WindDir3pm_SSW  WindDir3pm_SW  WindDir3pm_W  \\\n",
              " 1264             0.0             0.0            0.0           0.0   \n",
              " 3113             1.0             0.0            0.0           0.0   \n",
              " 1230             0.0             0.0            0.0           0.0   \n",
              " 1221             0.0             0.0            0.0           0.0   \n",
              " 3070             0.0             0.0            0.0           0.0   \n",
              " ...              ...             ...            ...           ...   \n",
              " 2763             0.0             0.0            0.0           0.0   \n",
              " 905              0.0             0.0            0.0           0.0   \n",
              " 1096             0.0             0.0            0.0           0.0   \n",
              " 235              0.0             0.0            0.0           0.0   \n",
              " 1061             0.0             0.0            0.0           0.0   \n",
              " \n",
              "       WindDir3pm_WNW  WindDir3pm_WSW  \n",
              " 1264             0.0             0.0  \n",
              " 3113             0.0             0.0  \n",
              " 1230             0.0             0.0  \n",
              " 1221             0.0             0.0  \n",
              " 3070             0.0             0.0  \n",
              " ...              ...             ...  \n",
              " 2763             0.0             0.0  \n",
              " 905              0.0             0.0  \n",
              " 1096             0.0             0.0  \n",
              " 235              0.0             0.0  \n",
              " 1061             0.0             0.0  \n",
              " \n",
              " [2616 rows x 66 columns],\n",
              "       MinTemp  MaxTemp  Rainfall  Evaporation  Sunshine  WindGustSpeed  \\\n",
              " 255      15.1     18.9       9.0          3.2       5.0           41.0   \n",
              " 1552      9.0     18.2       0.0          5.0      10.0           46.0   \n",
              " 1353     20.0     26.8       0.0          9.0       4.7           59.0   \n",
              " 1060     24.0     33.7       0.0          5.2       6.8           43.0   \n",
              " 808      12.6     24.9       0.0          2.4      10.6           41.0   \n",
              " ...       ...      ...       ...          ...       ...            ...   \n",
              " 1224     10.2     16.9       0.0          2.0       1.1           52.0   \n",
              " 756      20.9     26.7      14.0          3.4       6.2           41.0   \n",
              " 2774     19.6     28.5       0.2          7.6      12.7           43.0   \n",
              " 1387     21.7     33.2       1.4          8.8       9.4           56.0   \n",
              " 1723     20.8     24.3       0.0          7.8       1.3           43.0   \n",
              " \n",
              "       WindSpeed9am  WindSpeed3pm  Humidity9am  Humidity3pm  ...  \\\n",
              " 255           20.0          17.0         63.0         55.0  ...   \n",
              " 1552           9.0          17.0         52.0         33.0  ...   \n",
              " 1353          17.0           9.0         61.0         68.0  ...   \n",
              " 1060           7.0          28.0         72.0         73.0  ...   \n",
              " 808           15.0           9.0         64.0         32.0  ...   \n",
              " ...            ...           ...          ...          ...  ...   \n",
              " 1224          17.0          17.0         91.0         80.0  ...   \n",
              " 756            2.0          15.0         90.0         77.0  ...   \n",
              " 2774          11.0          22.0         68.0         46.0  ...   \n",
              " 1387          17.0          24.0         69.0         52.0  ...   \n",
              " 1723           7.0          11.0         72.0         68.0  ...   \n",
              " \n",
              "       WindDir3pm_NNW  WindDir3pm_NW  WindDir3pm_S  WindDir3pm_SE  \\\n",
              " 255              0.0            0.0           0.0            1.0   \n",
              " 1552             0.0            0.0           0.0            0.0   \n",
              " 1353             0.0            0.0           0.0            0.0   \n",
              " 1060             0.0            0.0           0.0            0.0   \n",
              " 808              0.0            0.0           0.0            0.0   \n",
              " ...              ...            ...           ...            ...   \n",
              " 1224             0.0            0.0           0.0            0.0   \n",
              " 756              0.0            0.0           0.0            0.0   \n",
              " 2774             0.0            0.0           0.0            0.0   \n",
              " 1387             1.0            0.0           0.0            0.0   \n",
              " 1723             0.0            0.0           0.0            0.0   \n",
              " \n",
              "       WindDir3pm_SSE  WindDir3pm_SSW  WindDir3pm_SW  WindDir3pm_W  \\\n",
              " 255              0.0             0.0            0.0           0.0   \n",
              " 1552             0.0             0.0            0.0           0.0   \n",
              " 1353             0.0             0.0            0.0           0.0   \n",
              " 1060             0.0             0.0            0.0           0.0   \n",
              " 808              0.0             0.0            0.0           1.0   \n",
              " ...              ...             ...            ...           ...   \n",
              " 1224             0.0             0.0            0.0           0.0   \n",
              " 756              0.0             0.0            0.0           0.0   \n",
              " 2774             0.0             0.0            0.0           0.0   \n",
              " 1387             0.0             0.0            0.0           0.0   \n",
              " 1723             0.0             1.0            0.0           0.0   \n",
              " \n",
              "       WindDir3pm_WNW  WindDir3pm_WSW  \n",
              " 255              0.0             0.0  \n",
              " 1552             0.0             1.0  \n",
              " 1353             0.0             0.0  \n",
              " 1060             0.0             0.0  \n",
              " 808              0.0             0.0  \n",
              " ...              ...             ...  \n",
              " 1224             0.0             0.0  \n",
              " 756              0.0             0.0  \n",
              " 2774             0.0             0.0  \n",
              " 1387             0.0             0.0  \n",
              " 1723             0.0             0.0  \n",
              " \n",
              " [655 rows x 66 columns],\n",
              " 1264    0.0\n",
              " 3113    0.0\n",
              " 1230    0.0\n",
              " 1221    0.0\n",
              " 3070    1.0\n",
              "        ... \n",
              " 2763    1.0\n",
              " 905     0.0\n",
              " 1096    0.0\n",
              " 235     0.0\n",
              " 1061    0.0\n",
              " Name: RainTomorrow, Length: 2616, dtype: float64,\n",
              " 255     0.0\n",
              " 1552    0.0\n",
              " 1353    0.0\n",
              " 1060    0.0\n",
              " 808     0.0\n",
              "        ... \n",
              " 1224    1.0\n",
              " 756     0.0\n",
              " 2774    0.0\n",
              " 1387    0.0\n",
              " 1723    0.0\n",
              " Name: RainTomorrow, Length: 655, dtype: float64)"
            ]
          },
          "metadata": {},
          "execution_count": 41
        }
      ]
    },
    {
      "cell_type": "markdown",
      "source": [
        "#### Q13) Create and train a LogisticRegression model called LR using the training data (`x_train`, `y_train`) with the `solver` parameter set to `liblinear`.\n"
      ],
      "metadata": {
        "id": "PDDWpWi1I9kb"
      }
    },
    {
      "cell_type": "code",
      "source": [
        "#Enter Your Code, Execute and take the Screenshot"
      ],
      "metadata": {
        "id": "XLf_L88mI9kc"
      },
      "execution_count": 42,
      "outputs": []
    },
    {
      "cell_type": "code",
      "source": [
        "from sklearn.linear_model import LogisticRegression\n",
        "\n",
        "# Create Logistic Regression model\n",
        "LR = LogisticRegression(solver='liblinear')\n",
        "\n",
        "# Train the model using the training data\n",
        "LR.fit(x_train, y_train)"
      ],
      "metadata": {
        "trusted": true,
        "id": "652w0FP2I9kc",
        "outputId": "aaf2e506-ec5a-47fe-b6df-0e80435908dc",
        "colab": {
          "base_uri": "https://localhost:8080/"
        }
      },
      "execution_count": 43,
      "outputs": [
        {
          "output_type": "execute_result",
          "data": {
            "text/plain": [
              "LogisticRegression(solver='liblinear')"
            ]
          },
          "metadata": {},
          "execution_count": 43
        }
      ]
    },
    {
      "cell_type": "markdown",
      "source": [
        "#### Q14) Now, use the `predict` method on the testing data (`x_test`) and save it to the array `predictions`.\n"
      ],
      "metadata": {
        "id": "zr_sqP9aI9kc"
      }
    },
    {
      "cell_type": "code",
      "source": [
        "#Enter Your Code, Execute and take the Screenshot"
      ],
      "metadata": {
        "id": "3eRfI6F6I9kd"
      },
      "execution_count": 44,
      "outputs": []
    },
    {
      "cell_type": "code",
      "source": [
        "# Use the trained model to make predictions on the test data\n",
        "predictions = LR.predict(x_test)\n",
        "predictions"
      ],
      "metadata": {
        "trusted": true,
        "id": "P40uMwPCI9kd",
        "outputId": "c65a1312-b049-4a0b-9b46-b5ed9903ad22",
        "colab": {
          "base_uri": "https://localhost:8080/"
        }
      },
      "execution_count": 45,
      "outputs": [
        {
          "output_type": "execute_result",
          "data": {
            "text/plain": [
              "array([0., 0., 0., 0., 0., 1., 0., 0., 0., 0., 1., 1., 0., 0., 0., 0., 1.,\n",
              "       0., 0., 0., 1., 1., 0., 0., 0., 0., 0., 0., 0., 0., 0., 0., 0., 1.,\n",
              "       1., 1., 1., 0., 1., 0., 0., 0., 0., 0., 0., 0., 0., 0., 0., 0., 1.,\n",
              "       0., 1., 0., 1., 1., 0., 0., 0., 0., 0., 0., 0., 0., 0., 0., 0., 0.,\n",
              "       0., 0., 0., 1., 0., 0., 0., 0., 0., 0., 0., 0., 0., 0., 0., 0., 1.,\n",
              "       0., 0., 0., 1., 0., 0., 1., 0., 0., 1., 0., 0., 0., 0., 0., 0., 1.,\n",
              "       0., 1., 1., 0., 0., 0., 0., 0., 0., 0., 1., 1., 0., 0., 1., 0., 0.,\n",
              "       0., 1., 0., 0., 0., 0., 0., 0., 0., 0., 0., 0., 0., 0., 0., 1., 1.,\n",
              "       0., 0., 0., 1., 0., 1., 0., 0., 0., 1., 0., 1., 1., 0., 0., 0., 1.,\n",
              "       0., 0., 1., 0., 0., 1., 0., 1., 0., 1., 1., 0., 0., 0., 0., 0., 0.,\n",
              "       0., 0., 0., 1., 0., 0., 0., 0., 0., 1., 1., 0., 0., 0., 1., 1., 0.,\n",
              "       0., 0., 0., 0., 0., 1., 0., 0., 1., 0., 1., 0., 0., 0., 0., 0., 0.,\n",
              "       0., 1., 1., 0., 0., 1., 0., 0., 0., 1., 0., 0., 0., 1., 0., 0., 0.,\n",
              "       1., 0., 1., 1., 0., 0., 0., 0., 0., 1., 1., 0., 0., 0., 0., 0., 0.,\n",
              "       0., 1., 0., 0., 1., 0., 0., 0., 1., 1., 1., 0., 0., 0., 0., 0., 1.,\n",
              "       0., 0., 0., 0., 1., 1., 1., 0., 0., 0., 0., 0., 0., 0., 0., 0., 0.,\n",
              "       0., 0., 0., 0., 0., 0., 1., 0., 0., 0., 1., 1., 1., 0., 0., 0., 0.,\n",
              "       1., 1., 0., 0., 0., 0., 1., 0., 0., 0., 0., 1., 0., 0., 0., 0., 1.,\n",
              "       1., 0., 0., 0., 1., 0., 0., 0., 0., 1., 0., 0., 0., 0., 0., 0., 0.,\n",
              "       0., 0., 1., 0., 0., 1., 1., 0., 0., 1., 0., 0., 0., 0., 0., 0., 0.,\n",
              "       1., 1., 0., 0., 1., 1., 1., 0., 1., 0., 0., 1., 0., 0., 0., 0., 0.,\n",
              "       0., 0., 0., 0., 0., 0., 0., 0., 1., 0., 0., 0., 0., 0., 0., 0., 0.,\n",
              "       0., 1., 0., 0., 1., 0., 0., 0., 0., 0., 0., 0., 0., 0., 1., 1., 0.,\n",
              "       0., 0., 0., 0., 0., 1., 0., 0., 0., 0., 0., 0., 0., 0., 0., 0., 0.,\n",
              "       0., 0., 0., 0., 0., 0., 0., 0., 0., 0., 0., 0., 0., 0., 0., 0., 0.,\n",
              "       0., 0., 0., 0., 0., 0., 0., 1., 1., 0., 0., 0., 0., 0., 0., 1., 1.,\n",
              "       1., 0., 0., 0., 1., 0., 1., 0., 0., 0., 0., 1., 0., 0., 0., 0., 0.,\n",
              "       0., 1., 0., 0., 1., 1., 0., 0., 1., 0., 0., 0., 0., 0., 1., 0., 0.,\n",
              "       1., 0., 0., 0., 0., 0., 0., 0., 0., 0., 1., 0., 0., 1., 1., 0., 1.,\n",
              "       0., 0., 0., 0., 0., 1., 0., 0., 1., 0., 0., 0., 0., 0., 0., 1., 0.,\n",
              "       0., 0., 0., 0., 0., 1., 0., 0., 1., 0., 0., 0., 0., 0., 0., 0., 0.,\n",
              "       0., 0., 0., 0., 0., 0., 1., 1., 0., 1., 0., 0., 1., 0., 0., 0., 0.,\n",
              "       0., 1., 0., 0., 0., 0., 0., 0., 0., 0., 1., 0., 0., 0., 0., 0., 0.,\n",
              "       0., 1., 1., 0., 0., 0., 0., 0., 0., 0., 1., 1., 0., 0., 0., 0., 0.,\n",
              "       0., 0., 0., 0., 0., 1., 0., 1., 0., 0., 0., 0., 1., 0., 0., 0., 0.,\n",
              "       0., 0., 0., 1., 1., 0., 0., 1., 0., 0., 0., 0., 0., 0., 0., 0., 0.,\n",
              "       0., 0., 0., 0., 1., 0., 0., 0., 0., 1., 0., 0., 0., 0., 1., 0., 0.,\n",
              "       0., 0., 1., 0., 0., 1., 1., 0., 0., 0., 1., 0., 1., 0., 0., 1., 0.,\n",
              "       0., 0., 1., 0., 1., 0., 0., 0., 1.])"
            ]
          },
          "metadata": {},
          "execution_count": 45
        }
      ]
    },
    {
      "cell_type": "markdown",
      "source": [
        "#### Q15) Using the `predictions` and the `y_test` dataframe calculate the value for each metric using the appropriate function.\n"
      ],
      "metadata": {
        "id": "RlX_ZbLOI9kd"
      }
    },
    {
      "cell_type": "code",
      "source": [
        "#Enter Your Code, Execute and take the Screenshot"
      ],
      "metadata": {
        "id": "n55_s3XWI9ke"
      },
      "execution_count": 46,
      "outputs": []
    },
    {
      "cell_type": "code",
      "source": [
        "from sklearn.metrics import log_loss\n",
        "\n",
        "# Calculate accuracy score\n",
        "LR_Accuracy_Score = accuracy_score(y_test, predictions)\n",
        "\n",
        "# Calculate Jaccard index\n",
        "LR_JaccardIndex = jaccard_score(y_test, predictions)\n",
        "\n",
        "# Calculate F1 score\n",
        "LR_F1_Score = f1_score(y_test, predictions)\n",
        "\n",
        "# Calculate Log Loss\n",
        "LR_Log_Loss = log_loss(y_test, predictions)\n",
        "\n",
        "print(\"LR Accuracy Score: \", LR_Accuracy_Score)\n",
        "print(\"LR Jaccard Index: \", LR_JaccardIndex)\n",
        "print(\"LR F1 Score: \", LR_F1_Score)\n",
        "print(\"LR Log Loss: \", LR_Log_Loss)\n"
      ],
      "metadata": {
        "trusted": true,
        "id": "6ini0ohwI9ke",
        "outputId": "e2e2babc-69f6-4f08-e8fd-ce2165fc1aef",
        "colab": {
          "base_uri": "https://localhost:8080/"
        }
      },
      "execution_count": 47,
      "outputs": [
        {
          "output_type": "stream",
          "name": "stdout",
          "text": [
            "LR Accuracy Score:  0.8366412213740458\n",
            "LR Jaccard Index:  0.5091743119266054\n",
            "LR F1 Score:  0.6747720364741641\n",
            "LR Log Loss:  5.642256274447221\n"
          ]
        }
      ]
    },
    {
      "cell_type": "markdown",
      "source": [
        "### SVM\n"
      ],
      "metadata": {
        "id": "buko_62MI9kf"
      }
    },
    {
      "cell_type": "markdown",
      "source": [
        "#### Q16) Create and train a SVM model called SVM using the training data (`x_train`, `y_train`).\n"
      ],
      "metadata": {
        "id": "fOZu3sXZI9kf"
      }
    },
    {
      "cell_type": "code",
      "source": [
        "#Enter Your Code Below, Execute, and Save the Screenshot of the Final Output"
      ],
      "metadata": {
        "trusted": true,
        "id": "BAZ0iJI7I9kf"
      },
      "execution_count": 48,
      "outputs": []
    },
    {
      "cell_type": "code",
      "source": [
        "from sklearn import svm\n",
        "\n",
        "# Create SVM model\n",
        "SVM = svm.SVC()\n",
        "\n",
        "# Train the model using the training data\n",
        "SVM.fit(x_train, y_train)\n"
      ],
      "metadata": {
        "trusted": true,
        "id": "CtkhnM6AI9kg",
        "outputId": "e3674124-200f-4703-b42f-223cc6d0ed20",
        "colab": {
          "base_uri": "https://localhost:8080/"
        }
      },
      "execution_count": 49,
      "outputs": [
        {
          "output_type": "execute_result",
          "data": {
            "text/plain": [
              "SVC()"
            ]
          },
          "metadata": {},
          "execution_count": 49
        }
      ]
    },
    {
      "cell_type": "markdown",
      "source": [
        "#### Q17) Now use the `predict` method on the testing data (`x_test`) and save it to the array `predictions`.\n"
      ],
      "metadata": {
        "id": "clzA4qRGI9kg"
      }
    },
    {
      "cell_type": "code",
      "source": [
        "#Enter Your Code Below, Execute, and Save the Screenshot of the Final Output"
      ],
      "metadata": {
        "trusted": true,
        "id": "RyCMA0zeI9kh"
      },
      "execution_count": 50,
      "outputs": []
    },
    {
      "cell_type": "code",
      "source": [
        "# Use the trained model to make predictions on the test data\n",
        "predictions = SVM.predict(x_test)"
      ],
      "metadata": {
        "trusted": true,
        "id": "fJtsQv05I9kh"
      },
      "execution_count": 51,
      "outputs": []
    },
    {
      "cell_type": "markdown",
      "source": [
        "#### Q18) Using the `predictions` and the `y_test` dataframe calculate the value for each metric using the appropriate function.\n"
      ],
      "metadata": {
        "id": "lvJ6VDEzI9ki"
      }
    },
    {
      "cell_type": "code",
      "source": [
        "# Calculate accuracy score\n",
        "SVM_Accuracy_Score = accuracy_score(y_test, predictions)\n",
        "\n",
        "# Calculate Jaccard index\n",
        "SVM_JaccardIndex = jaccard_score(y_test, predictions)\n",
        "\n",
        "# Calculate F1 score\n",
        "SVM_F1_Score = f1_score(y_test, predictions)\n",
        "\n",
        "print(\"SVM Accuracy Score: \", SVM_Accuracy_Score)\n",
        "print(\"SVM Jaccard Index: \", SVM_JaccardIndex)\n",
        "print(\"SVM F1 Score: \", SVM_F1_Score)"
      ],
      "metadata": {
        "trusted": true,
        "id": "5-1ycg9OI9ki",
        "outputId": "6f281779-fe71-4ed1-9dfe-8263466a570a",
        "colab": {
          "base_uri": "https://localhost:8080/"
        }
      },
      "execution_count": 52,
      "outputs": [
        {
          "output_type": "stream",
          "name": "stdout",
          "text": [
            "SVM Accuracy Score:  0.7221374045801526\n",
            "SVM Jaccard Index:  0.0\n",
            "SVM F1 Score:  0.0\n"
          ]
        }
      ]
    },
    {
      "cell_type": "markdown",
      "source": [
        "### Report\n"
      ],
      "metadata": {
        "id": "g9B1_skTI9ki"
      }
    },
    {
      "cell_type": "markdown",
      "source": [
        "#### Q19) Show the Accuracy,Jaccard Index,F1-Score and LogLoss in a tabular format using data frame for all of the above models.\n",
        "\n",
        "\\*LogLoss is only for Logistic Regression Model\n"
      ],
      "metadata": {
        "id": "r4mgAgrGI9kj"
      }
    },
    {
      "cell_type": "code",
      "source": [
        "# Define the data for the report\n",
        "data = {'Algorithm': ['KNN', 'Decision Tree', 'Logistic Regression', 'SVM'],\n",
        "        'Accuracy Score': [KNN_Accuracy_Score, Tree_Accuracy_Score, LR_Accuracy_Score, SVM_Accuracy_Score],\n",
        "        'Jaccard Index': [KNN_JaccardIndex, Tree_JaccardIndex, LR_JaccardIndex, SVM_JaccardIndex],\n",
        "        'F1-Score': [KNN_F1_Score, Tree_F1_Score, LR_F1_Score, SVM_F1_Score],\n",
        "        'Log Loss': ['NA', 'NA', LR_Log_Loss, 'NA']}\n",
        "\n",
        "# Create the report\n",
        "Report = pd.DataFrame(data)\n",
        "\n",
        "Report"
      ],
      "metadata": {
        "trusted": true,
        "id": "lXHMaTMSI9kj",
        "outputId": "ce8783ab-45cb-4f34-b6e2-a1e07e54c19b",
        "colab": {
          "base_uri": "https://localhost:8080/",
          "height": 175
        }
      },
      "execution_count": 53,
      "outputs": [
        {
          "output_type": "execute_result",
          "data": {
            "text/plain": [
              "             Algorithm  Accuracy Score  Jaccard Index  F1-Score  Log Loss\n",
              "0                  KNN        0.789313       0.277487  0.434426        NA\n",
              "1        Decision Tree        0.758779       0.403774  0.575269        NA\n",
              "2  Logistic Regression        0.836641       0.509174  0.674772  5.642256\n",
              "3                  SVM        0.722137       0.000000  0.000000        NA"
            ],
            "text/html": [
              "\n",
              "  <div id=\"df-e68e7557-713a-4ef7-aee6-a2887aea44b3\">\n",
              "    <div class=\"colab-df-container\">\n",
              "      <div>\n",
              "<style scoped>\n",
              "    .dataframe tbody tr th:only-of-type {\n",
              "        vertical-align: middle;\n",
              "    }\n",
              "\n",
              "    .dataframe tbody tr th {\n",
              "        vertical-align: top;\n",
              "    }\n",
              "\n",
              "    .dataframe thead th {\n",
              "        text-align: right;\n",
              "    }\n",
              "</style>\n",
              "<table border=\"1\" class=\"dataframe\">\n",
              "  <thead>\n",
              "    <tr style=\"text-align: right;\">\n",
              "      <th></th>\n",
              "      <th>Algorithm</th>\n",
              "      <th>Accuracy Score</th>\n",
              "      <th>Jaccard Index</th>\n",
              "      <th>F1-Score</th>\n",
              "      <th>Log Loss</th>\n",
              "    </tr>\n",
              "  </thead>\n",
              "  <tbody>\n",
              "    <tr>\n",
              "      <th>0</th>\n",
              "      <td>KNN</td>\n",
              "      <td>0.789313</td>\n",
              "      <td>0.277487</td>\n",
              "      <td>0.434426</td>\n",
              "      <td>NA</td>\n",
              "    </tr>\n",
              "    <tr>\n",
              "      <th>1</th>\n",
              "      <td>Decision Tree</td>\n",
              "      <td>0.758779</td>\n",
              "      <td>0.403774</td>\n",
              "      <td>0.575269</td>\n",
              "      <td>NA</td>\n",
              "    </tr>\n",
              "    <tr>\n",
              "      <th>2</th>\n",
              "      <td>Logistic Regression</td>\n",
              "      <td>0.836641</td>\n",
              "      <td>0.509174</td>\n",
              "      <td>0.674772</td>\n",
              "      <td>5.642256</td>\n",
              "    </tr>\n",
              "    <tr>\n",
              "      <th>3</th>\n",
              "      <td>SVM</td>\n",
              "      <td>0.722137</td>\n",
              "      <td>0.000000</td>\n",
              "      <td>0.000000</td>\n",
              "      <td>NA</td>\n",
              "    </tr>\n",
              "  </tbody>\n",
              "</table>\n",
              "</div>\n",
              "      <button class=\"colab-df-convert\" onclick=\"convertToInteractive('df-e68e7557-713a-4ef7-aee6-a2887aea44b3')\"\n",
              "              title=\"Convert this dataframe to an interactive table.\"\n",
              "              style=\"display:none;\">\n",
              "        \n",
              "  <svg xmlns=\"http://www.w3.org/2000/svg\" height=\"24px\"viewBox=\"0 0 24 24\"\n",
              "       width=\"24px\">\n",
              "    <path d=\"M0 0h24v24H0V0z\" fill=\"none\"/>\n",
              "    <path d=\"M18.56 5.44l.94 2.06.94-2.06 2.06-.94-2.06-.94-.94-2.06-.94 2.06-2.06.94zm-11 1L8.5 8.5l.94-2.06 2.06-.94-2.06-.94L8.5 2.5l-.94 2.06-2.06.94zm10 10l.94 2.06.94-2.06 2.06-.94-2.06-.94-.94-2.06-.94 2.06-2.06.94z\"/><path d=\"M17.41 7.96l-1.37-1.37c-.4-.4-.92-.59-1.43-.59-.52 0-1.04.2-1.43.59L10.3 9.45l-7.72 7.72c-.78.78-.78 2.05 0 2.83L4 21.41c.39.39.9.59 1.41.59.51 0 1.02-.2 1.41-.59l7.78-7.78 2.81-2.81c.8-.78.8-2.07 0-2.86zM5.41 20L4 18.59l7.72-7.72 1.47 1.35L5.41 20z\"/>\n",
              "  </svg>\n",
              "      </button>\n",
              "      \n",
              "  <style>\n",
              "    .colab-df-container {\n",
              "      display:flex;\n",
              "      flex-wrap:wrap;\n",
              "      gap: 12px;\n",
              "    }\n",
              "\n",
              "    .colab-df-convert {\n",
              "      background-color: #E8F0FE;\n",
              "      border: none;\n",
              "      border-radius: 50%;\n",
              "      cursor: pointer;\n",
              "      display: none;\n",
              "      fill: #1967D2;\n",
              "      height: 32px;\n",
              "      padding: 0 0 0 0;\n",
              "      width: 32px;\n",
              "    }\n",
              "\n",
              "    .colab-df-convert:hover {\n",
              "      background-color: #E2EBFA;\n",
              "      box-shadow: 0px 1px 2px rgba(60, 64, 67, 0.3), 0px 1px 3px 1px rgba(60, 64, 67, 0.15);\n",
              "      fill: #174EA6;\n",
              "    }\n",
              "\n",
              "    [theme=dark] .colab-df-convert {\n",
              "      background-color: #3B4455;\n",
              "      fill: #D2E3FC;\n",
              "    }\n",
              "\n",
              "    [theme=dark] .colab-df-convert:hover {\n",
              "      background-color: #434B5C;\n",
              "      box-shadow: 0px 1px 3px 1px rgba(0, 0, 0, 0.15);\n",
              "      filter: drop-shadow(0px 1px 2px rgba(0, 0, 0, 0.3));\n",
              "      fill: #FFFFFF;\n",
              "    }\n",
              "  </style>\n",
              "\n",
              "      <script>\n",
              "        const buttonEl =\n",
              "          document.querySelector('#df-e68e7557-713a-4ef7-aee6-a2887aea44b3 button.colab-df-convert');\n",
              "        buttonEl.style.display =\n",
              "          google.colab.kernel.accessAllowed ? 'block' : 'none';\n",
              "\n",
              "        async function convertToInteractive(key) {\n",
              "          const element = document.querySelector('#df-e68e7557-713a-4ef7-aee6-a2887aea44b3');\n",
              "          const dataTable =\n",
              "            await google.colab.kernel.invokeFunction('convertToInteractive',\n",
              "                                                     [key], {});\n",
              "          if (!dataTable) return;\n",
              "\n",
              "          const docLinkHtml = 'Like what you see? Visit the ' +\n",
              "            '<a target=\"_blank\" href=https://colab.research.google.com/notebooks/data_table.ipynb>data table notebook</a>'\n",
              "            + ' to learn more about interactive tables.';\n",
              "          element.innerHTML = '';\n",
              "          dataTable['output_type'] = 'display_data';\n",
              "          await google.colab.output.renderOutput(dataTable, element);\n",
              "          const docLink = document.createElement('div');\n",
              "          docLink.innerHTML = docLinkHtml;\n",
              "          element.appendChild(docLink);\n",
              "        }\n",
              "      </script>\n",
              "    </div>\n",
              "  </div>\n",
              "  "
            ]
          },
          "metadata": {},
          "execution_count": 53
        }
      ]
    },
    {
      "cell_type": "markdown",
      "source": [
        "<h2 id=\"Section_5\">  How to submit </h2>\n",
        "\n",
        "<p>Once you complete your notebook you will have to share it. You can download the notebook by navigating to \"File\" and clicking on \"Download\" button.\n",
        "\n",
        "<p>This will save the (.ipynb) file on your computer. Once saved, you can upload this file in the \"My Submission\" tab, of the \"Peer-graded Assignment\" section.  \n"
      ],
      "metadata": {
        "id": "Y06C9W9pI9kj"
      }
    },
    {
      "cell_type": "markdown",
      "source": [
        "<h2>About the Authors:</h2> \n",
        "\n",
        "<a href=\"https://www.linkedin.com/in/joseph-s-50398b136/?utm_medium=Exinfluencer&utm_source=Exinfluencer&utm_content=000026UJ&utm_term=10006555&utm_id=NA-SkillsNetwork-Channel-SkillsNetworkCoursesIBMDeveloperSkillsNetworkML0101ENSkillsNetwork20718538-2022-01-01\">Joseph Santarcangelo</a> has a PhD in Electrical Engineering, his research focused on using machine learning, signal processing, and computer vision to determine how videos impact human cognition. Joseph has been working for IBM since he completed his PhD.\n",
        "\n",
        "### Other Contributors\n",
        "\n",
        "[Svitlana Kramar](https://www.linkedin.com/in/svitlana-kramar/?utm_medium=Exinfluencer&utm_source=Exinfluencer&utm_content=000026UJ&utm_term=10006555&utm_id=NA-SkillsNetwork-Channel-SkillsNetworkCoursesIBMML0232ENSkillsNetwork30654641-2022-01-01)\n"
      ],
      "metadata": {
        "id": "X1dnOcbRI9kk"
      }
    },
    {
      "cell_type": "markdown",
      "source": [
        "## Change Log\n",
        "\n",
        "| Date (YYYY-MM-DD) | Version | Changed By  | Change Description          |\n",
        "| ----------------- | ------- | ----------- | --------------------------- |\n",
        "| 2022-06-22        | 2.0     | Svitlana K. | Deleted GridSearch and Mock |\n",
        "\n",
        "## <h3 align=\"center\"> © IBM Corporation 2020. All rights reserved. <h3/>\n"
      ],
      "metadata": {
        "id": "Q6LX1e3_I9kk"
      }
    },
    {
      "cell_type": "code",
      "source": [],
      "metadata": {
        "id": "d6WkxL7R5fDF"
      },
      "execution_count": null,
      "outputs": []
    }
  ]
}